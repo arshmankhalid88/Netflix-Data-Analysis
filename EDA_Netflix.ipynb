{
 "cells": [
  {
   "cell_type": "markdown",
   "id": "73c82bce",
   "metadata": {},
   "source": [
    "<div style=\"border-radius: 30px 0 30px 0; border: 2px solid #00ea98; padding: 20px; background-color: #0a141b; text-align: center; box-shadow: 0px 2px 4px rgba(0, 0, 0, 0.2);\">\n",
    "    <h1 style=\"color: #7ab052; text-shadow: 2px 2px 4px rgba(0, 0, 0, 0.5); font-weight: bold; margin-bottom: 10px; font-size: 36px;\">About the Author</h1>\n",
    "</div>\n",
    "\n"
   ]
  },
  {
   "cell_type": "markdown",
   "id": "1e5fdfa2",
   "metadata": {},
   "source": [
    "# **Arshman Khalid**  \n",
    "<p style=\"font-size: 1.5rem; font-weight: bold;\">Data Scientist | Software Engineer | ex Consultant PwC | ex Senior Data Analyst Fortune 500</p>\n",
    "\n",
    "With over 5 years of expertise in data science and software engineering, I am dedicated to transforming complex data into actionable insights. My focus lies in predictive analytics, data strategy, and the implementation of robust machine learning models that drive measurable business outcomes. I have a track record of optimizing operations, reducing costs, and improving decision-making processes across industries. Proficient in Python, Alteryx, Power BI, and cloud platforms.\n",
    "\n",
    "When I am not wrangling datasets, you will find me attempting to code my way to the perfect cup of coffee!\n"
   ]
  },
  {
   "cell_type": "markdown",
   "id": "26689f4a",
   "metadata": {},
   "source": [
    "<div style=\"text-align: left; font-family: Arial, sans-serif; margin-top: 20px;\">\n",
    "    <a href=\"https://www.linkedin.com/in/arshmankhalid/\" style=\"text-decoration: none; color: #fff; margin-right: 10px;\">\n",
    "        <span style=\"background-color: #0077B5; padding: 8px 20px; border-radius: 5px; font-size: 14px; display: inline-block; width: 120px; text-align: center;\">LinkedIn</span>\n",
    "    </a>\n",
    "    <a href=\"https://x.com/arshmankhalid\" style=\"text-decoration: none; color: #fff; margin-right: 10px;\">\n",
    "        <span style=\"background-color: #000; padding: 8px 20px; border-radius: 5px; font-size: 14px; display: inline-block; width: 120px; text-align: center;\">X</span>\n",
    "    </a>\n",
    "    <a href=\"https://github.com/arshmankhalid88\" style=\"text-decoration: none; color: #fff; margin-right: 10px;\">\n",
    "        <span style=\"background-color: #333; padding: 8px 20px; border-radius: 5px; font-size: 14px; display: inline-block; width: 120px; text-align: center;\">GitHub</span>\n",
    "    </a>\n",
    "    <a href=\"https://www.kaggle.com\" style=\"text-decoration: none; color: #fff; margin-right: 10px;\">\n",
    "        <span style=\"background-color: #20BEFF; padding: 8px 20px; border-radius: 5px; font-size: 14px; display: inline-block; width: 120px; text-align: center;\">Kaggle</span>\n",
    "    </a>\n",
    "</div>\n"
   ]
  },
  {
   "cell_type": "markdown",
   "id": "5159b7f8",
   "metadata": {},
   "source": [
    "<div style=\"border-radius: 30px 0 30px 0px; border: 2px solid #00ea98; padding: 20px; background-color: #0a141b; text-align: center; box-shadow: 0px 2px 4px rgba(0, 0, 0, 0.2);\">\n",
    "    <h1 style=\"color: #7ab052; text-shadow: 2px 2px 4px rgba(0, 0, 0, 0.5); font-weight: bold; margin-bottom: 10px; font-size: 36px;\">Load Libraries</h1>\n",
    "</div>\n"
   ]
  },
  {
   "cell_type": "code",
   "execution_count": 1,
   "id": "cb7d0ac1",
   "metadata": {},
   "outputs": [],
   "source": [
    "import pandas as pd\n",
    "import numpy as np\n",
    "import matplotlib.pyplot as plt\n",
    "import seaborn as sns\n",
    "import warnings\n",
    "import re\n",
    "import plotly.express as px\n",
    "import plotly.graph_objs as go\n",
    "import plotly.figure_factory as ff\n",
    "\n",
    "warnings.filterwarnings('ignore')\n",
    "%matplotlib inline"
   ]
  },
  {
   "cell_type": "markdown",
   "id": "1e636965",
   "metadata": {},
   "source": [
    "<div style=\"border-radius: 30px 0 30px 0px; border: 2px solid #00ea98; padding: 20px; background-color: #0a141b; text-align: center; box-shadow: 0px 2px 4px rgba(0, 0, 0, 0.2);\">\n",
    "    <h1 style=\"color: #7ab052; text-shadow: 2px 2px 4px rgba(0, 0, 0, 0.5); font-weight: bold; margin-bottom: 10px; font-size: 36px;\">Load Dataset</h1>\n",
    "</div>\n"
   ]
  },
  {
   "cell_type": "code",
   "execution_count": 2,
   "id": "b66dccbe",
   "metadata": {},
   "outputs": [],
   "source": [
    "df=pd.read_csv(\"data.csv\")"
   ]
  },
  {
   "cell_type": "markdown",
   "id": "1614f8e3",
   "metadata": {},
   "source": [
    "<div style=\"border-radius: 30px 0 30px 0px; border: 2px solid #00ea98; padding: 20px; background-color: #0a141b; text-align: center; box-shadow: 0px 2px 4px rgba(0, 0, 0, 0.2);\">\n",
    "    <h1 style=\"color: #7ab052; text-shadow: 2px 2px 4px rgba(0, 0, 0, 0.5); font-weight: bold; margin-bottom: 10px; font-size: 36px;\">EDA</h1>\n",
    "</div>\n"
   ]
  },
  {
   "cell_type": "code",
   "execution_count": 3,
   "id": "4b162b34",
   "metadata": {},
   "outputs": [
    {
     "data": {
      "text/html": [
       "<div>\n",
       "<style scoped>\n",
       "    .dataframe tbody tr th:only-of-type {\n",
       "        vertical-align: middle;\n",
       "    }\n",
       "\n",
       "    .dataframe tbody tr th {\n",
       "        vertical-align: top;\n",
       "    }\n",
       "\n",
       "    .dataframe thead th {\n",
       "        text-align: right;\n",
       "    }\n",
       "</style>\n",
       "<table border=\"1\" class=\"dataframe\">\n",
       "  <thead>\n",
       "    <tr style=\"text-align: right;\">\n",
       "      <th></th>\n",
       "      <th>url</th>\n",
       "      <th>title</th>\n",
       "      <th>type</th>\n",
       "      <th>genres</th>\n",
       "      <th>releaseYear</th>\n",
       "      <th>imdbId</th>\n",
       "      <th>imdbAverageRating</th>\n",
       "      <th>imdbNumVotes</th>\n",
       "      <th>availableCountries</th>\n",
       "    </tr>\n",
       "  </thead>\n",
       "  <tbody>\n",
       "    <tr>\n",
       "      <th>0</th>\n",
       "      <td>https://www.netflix.com/title/60000724</td>\n",
       "      <td>Forrest Gump</td>\n",
       "      <td>movie</td>\n",
       "      <td>Drama, Romance</td>\n",
       "      <td>1994.0</td>\n",
       "      <td>tt0109830</td>\n",
       "      <td>8.8</td>\n",
       "      <td>2313221.0</td>\n",
       "      <td>MX</td>\n",
       "    </tr>\n",
       "    <tr>\n",
       "      <th>1</th>\n",
       "      <td>https://www.netflix.com/title/1154386</td>\n",
       "      <td>The Fifth Element</td>\n",
       "      <td>movie</td>\n",
       "      <td>Action, Adventure, Sci-Fi</td>\n",
       "      <td>1997.0</td>\n",
       "      <td>tt0119116</td>\n",
       "      <td>7.6</td>\n",
       "      <td>516523.0</td>\n",
       "      <td>AT, CH, DE</td>\n",
       "    </tr>\n",
       "    <tr>\n",
       "      <th>2</th>\n",
       "      <td>https://www.netflix.com/title/60031236</td>\n",
       "      <td>Kill Bill: Vol. 1</td>\n",
       "      <td>movie</td>\n",
       "      <td>Action, Crime, Thriller</td>\n",
       "      <td>2003.0</td>\n",
       "      <td>tt0266697</td>\n",
       "      <td>8.2</td>\n",
       "      <td>1220488.0</td>\n",
       "      <td>AE, AL, AO, AT, AU, AZ, BG, BH, BY, CA, CI, CM...</td>\n",
       "    </tr>\n",
       "    <tr>\n",
       "      <th>3</th>\n",
       "      <td>https://www.netflix.com/title/70021659</td>\n",
       "      <td>Jarhead</td>\n",
       "      <td>movie</td>\n",
       "      <td>Biography, Drama, War</td>\n",
       "      <td>2005.0</td>\n",
       "      <td>tt0418763</td>\n",
       "      <td>7.0</td>\n",
       "      <td>211314.0</td>\n",
       "      <td>AD, AE, AG, AL, AO, AR, AT, AZ, BA, BB, BE, BG...</td>\n",
       "    </tr>\n",
       "    <tr>\n",
       "      <th>4</th>\n",
       "      <td>https://www.netflix.com/title/1080395</td>\n",
       "      <td>Unforgiven</td>\n",
       "      <td>movie</td>\n",
       "      <td>Drama, Western</td>\n",
       "      <td>1992.0</td>\n",
       "      <td>tt0105695</td>\n",
       "      <td>8.2</td>\n",
       "      <td>443310.0</td>\n",
       "      <td>AU, BA, BE, BG, CZ, HR, HU, MD, ME, MK, NZ, PL...</td>\n",
       "    </tr>\n",
       "  </tbody>\n",
       "</table>\n",
       "</div>"
      ],
      "text/plain": [
       "                                      url              title   type  \\\n",
       "0  https://www.netflix.com/title/60000724       Forrest Gump  movie   \n",
       "1   https://www.netflix.com/title/1154386  The Fifth Element  movie   \n",
       "2  https://www.netflix.com/title/60031236  Kill Bill: Vol. 1  movie   \n",
       "3  https://www.netflix.com/title/70021659            Jarhead  movie   \n",
       "4   https://www.netflix.com/title/1080395         Unforgiven  movie   \n",
       "\n",
       "                      genres  releaseYear     imdbId  imdbAverageRating  \\\n",
       "0             Drama, Romance       1994.0  tt0109830                8.8   \n",
       "1  Action, Adventure, Sci-Fi       1997.0  tt0119116                7.6   \n",
       "2    Action, Crime, Thriller       2003.0  tt0266697                8.2   \n",
       "3      Biography, Drama, War       2005.0  tt0418763                7.0   \n",
       "4             Drama, Western       1992.0  tt0105695                8.2   \n",
       "\n",
       "   imdbNumVotes                                 availableCountries  \n",
       "0     2313221.0                                                 MX  \n",
       "1      516523.0                                         AT, CH, DE  \n",
       "2     1220488.0  AE, AL, AO, AT, AU, AZ, BG, BH, BY, CA, CI, CM...  \n",
       "3      211314.0  AD, AE, AG, AL, AO, AR, AT, AZ, BA, BB, BE, BG...  \n",
       "4      443310.0  AU, BA, BE, BG, CZ, HR, HU, MD, ME, MK, NZ, PL...  "
      ]
     },
     "execution_count": 3,
     "metadata": {},
     "output_type": "execute_result"
    }
   ],
   "source": [
    "df.head()"
   ]
  },
  {
   "cell_type": "code",
   "execution_count": 4,
   "id": "ddba0bb4",
   "metadata": {},
   "outputs": [
    {
     "data": {
      "text/html": [
       "<div>\n",
       "<style scoped>\n",
       "    .dataframe tbody tr th:only-of-type {\n",
       "        vertical-align: middle;\n",
       "    }\n",
       "\n",
       "    .dataframe tbody tr th {\n",
       "        vertical-align: top;\n",
       "    }\n",
       "\n",
       "    .dataframe thead th {\n",
       "        text-align: right;\n",
       "    }\n",
       "</style>\n",
       "<table border=\"1\" class=\"dataframe\">\n",
       "  <thead>\n",
       "    <tr style=\"text-align: right;\">\n",
       "      <th></th>\n",
       "      <th>url</th>\n",
       "      <th>title</th>\n",
       "      <th>type</th>\n",
       "      <th>genres</th>\n",
       "      <th>releaseYear</th>\n",
       "      <th>imdbId</th>\n",
       "      <th>imdbAverageRating</th>\n",
       "      <th>imdbNumVotes</th>\n",
       "      <th>availableCountries</th>\n",
       "    </tr>\n",
       "  </thead>\n",
       "  <tbody>\n",
       "    <tr>\n",
       "      <th>15855</th>\n",
       "      <td>NaN</td>\n",
       "      <td>NaN</td>\n",
       "      <td>tv</td>\n",
       "      <td>Drama, Mystery</td>\n",
       "      <td>NaN</td>\n",
       "      <td>NaN</td>\n",
       "      <td>NaN</td>\n",
       "      <td>NaN</td>\n",
       "      <td>AD, AE, AG, AL, AO, AR, AT, AU, AZ, BA, BB, BE...</td>\n",
       "    </tr>\n",
       "    <tr>\n",
       "      <th>15856</th>\n",
       "      <td>NaN</td>\n",
       "      <td>NaN</td>\n",
       "      <td>tv</td>\n",
       "      <td>NaN</td>\n",
       "      <td>2024.0</td>\n",
       "      <td>NaN</td>\n",
       "      <td>NaN</td>\n",
       "      <td>NaN</td>\n",
       "      <td>HK, ID, IN, KR, MY, PH, SG, TH</td>\n",
       "    </tr>\n",
       "    <tr>\n",
       "      <th>15857</th>\n",
       "      <td>NaN</td>\n",
       "      <td>NaN</td>\n",
       "      <td>tv</td>\n",
       "      <td>NaN</td>\n",
       "      <td>2024.0</td>\n",
       "      <td>NaN</td>\n",
       "      <td>NaN</td>\n",
       "      <td>NaN</td>\n",
       "      <td>AL, AO, AU, AZ, BA, BB, BG, BM, BS, BY, BZ, CA...</td>\n",
       "    </tr>\n",
       "    <tr>\n",
       "      <th>15858</th>\n",
       "      <td>NaN</td>\n",
       "      <td>NaN</td>\n",
       "      <td>tv</td>\n",
       "      <td>NaN</td>\n",
       "      <td>NaN</td>\n",
       "      <td>NaN</td>\n",
       "      <td>NaN</td>\n",
       "      <td>NaN</td>\n",
       "      <td>AG, AO, AR, AU, BB, BM, BO, BS, BZ, CA, CI, CL...</td>\n",
       "    </tr>\n",
       "    <tr>\n",
       "      <th>15859</th>\n",
       "      <td>NaN</td>\n",
       "      <td>The Evolution of Black British Music</td>\n",
       "      <td>tv</td>\n",
       "      <td>Documentary, Music</td>\n",
       "      <td>2022.0</td>\n",
       "      <td>tt27912029</td>\n",
       "      <td>7.2</td>\n",
       "      <td>16.0</td>\n",
       "      <td>BM, GB, GG, GI, IE, TC</td>\n",
       "    </tr>\n",
       "  </tbody>\n",
       "</table>\n",
       "</div>"
      ],
      "text/plain": [
       "       url                                 title type              genres  \\\n",
       "15855  NaN                                   NaN   tv      Drama, Mystery   \n",
       "15856  NaN                                   NaN   tv                 NaN   \n",
       "15857  NaN                                   NaN   tv                 NaN   \n",
       "15858  NaN                                   NaN   tv                 NaN   \n",
       "15859  NaN  The Evolution of Black British Music   tv  Documentary, Music   \n",
       "\n",
       "       releaseYear      imdbId  imdbAverageRating  imdbNumVotes  \\\n",
       "15855          NaN         NaN                NaN           NaN   \n",
       "15856       2024.0         NaN                NaN           NaN   \n",
       "15857       2024.0         NaN                NaN           NaN   \n",
       "15858          NaN         NaN                NaN           NaN   \n",
       "15859       2022.0  tt27912029                7.2          16.0   \n",
       "\n",
       "                                      availableCountries  \n",
       "15855  AD, AE, AG, AL, AO, AR, AT, AU, AZ, BA, BB, BE...  \n",
       "15856                     HK, ID, IN, KR, MY, PH, SG, TH  \n",
       "15857  AL, AO, AU, AZ, BA, BB, BG, BM, BS, BY, BZ, CA...  \n",
       "15858  AG, AO, AR, AU, BB, BM, BO, BS, BZ, CA, CI, CL...  \n",
       "15859                             BM, GB, GG, GI, IE, TC  "
      ]
     },
     "execution_count": 4,
     "metadata": {},
     "output_type": "execute_result"
    }
   ],
   "source": [
    "df.tail()"
   ]
  },
  {
   "cell_type": "code",
   "execution_count": 5,
   "id": "69073aef",
   "metadata": {},
   "outputs": [
    {
     "data": {
      "text/plain": [
       "(15860, 9)"
      ]
     },
     "execution_count": 5,
     "metadata": {},
     "output_type": "execute_result"
    }
   ],
   "source": [
    "df.shape\n"
   ]
  },
  {
   "cell_type": "code",
   "execution_count": 6,
   "id": "04c10b8a",
   "metadata": {},
   "outputs": [
    {
     "data": {
      "text/plain": [
       "Index(['url', 'title', 'type', 'genres', 'releaseYear', 'imdbId',\n",
       "       'imdbAverageRating', 'imdbNumVotes', 'availableCountries'],\n",
       "      dtype='object')"
      ]
     },
     "execution_count": 6,
     "metadata": {},
     "output_type": "execute_result"
    }
   ],
   "source": [
    "df.columns"
   ]
  },
  {
   "cell_type": "code",
   "execution_count": 7,
   "id": "3f6b9b3e",
   "metadata": {},
   "outputs": [
    {
     "name": "stdout",
     "output_type": "stream",
     "text": [
      "<class 'pandas.core.frame.DataFrame'>\n",
      "RangeIndex: 15860 entries, 0 to 15859\n",
      "Data columns (total 9 columns):\n",
      " #   Column              Non-Null Count  Dtype  \n",
      "---  ------              --------------  -----  \n",
      " 0   url                 6702 non-null   object \n",
      " 1   title               15360 non-null  object \n",
      " 2   type                15860 non-null  object \n",
      " 3   genres              15712 non-null  object \n",
      " 4   releaseYear         15848 non-null  float64\n",
      " 5   imdbId              15178 non-null  object \n",
      " 6   imdbAverageRating   15134 non-null  float64\n",
      " 7   imdbNumVotes        15134 non-null  float64\n",
      " 8   availableCountries  15860 non-null  object \n",
      "dtypes: float64(3), object(6)\n",
      "memory usage: 1.1+ MB\n"
     ]
    }
   ],
   "source": [
    "df.info()"
   ]
  },
  {
   "cell_type": "code",
   "execution_count": 8,
   "id": "83065082",
   "metadata": {},
   "outputs": [
    {
     "data": {
      "text/html": [
       "<div>\n",
       "<style scoped>\n",
       "    .dataframe tbody tr th:only-of-type {\n",
       "        vertical-align: middle;\n",
       "    }\n",
       "\n",
       "    .dataframe tbody tr th {\n",
       "        vertical-align: top;\n",
       "    }\n",
       "\n",
       "    .dataframe thead th {\n",
       "        text-align: right;\n",
       "    }\n",
       "</style>\n",
       "<table border=\"1\" class=\"dataframe\">\n",
       "  <thead>\n",
       "    <tr style=\"text-align: right;\">\n",
       "      <th></th>\n",
       "      <th>releaseYear</th>\n",
       "      <th>imdbAverageRating</th>\n",
       "      <th>imdbNumVotes</th>\n",
       "    </tr>\n",
       "  </thead>\n",
       "  <tbody>\n",
       "    <tr>\n",
       "      <th>count</th>\n",
       "      <td>15848.000000</td>\n",
       "      <td>15134.000000</td>\n",
       "      <td>1.513400e+04</td>\n",
       "    </tr>\n",
       "    <tr>\n",
       "      <th>mean</th>\n",
       "      <td>2010.643362</td>\n",
       "      <td>6.491483</td>\n",
       "      <td>3.878343e+04</td>\n",
       "    </tr>\n",
       "    <tr>\n",
       "      <th>std</th>\n",
       "      <td>15.307278</td>\n",
       "      <td>1.060376</td>\n",
       "      <td>1.335789e+05</td>\n",
       "    </tr>\n",
       "    <tr>\n",
       "      <th>min</th>\n",
       "      <td>1913.000000</td>\n",
       "      <td>1.200000</td>\n",
       "      <td>5.000000e+00</td>\n",
       "    </tr>\n",
       "    <tr>\n",
       "      <th>25%</th>\n",
       "      <td>2008.000000</td>\n",
       "      <td>5.900000</td>\n",
       "      <td>4.262500e+02</td>\n",
       "    </tr>\n",
       "    <tr>\n",
       "      <th>50%</th>\n",
       "      <td>2016.000000</td>\n",
       "      <td>6.600000</td>\n",
       "      <td>2.088000e+03</td>\n",
       "    </tr>\n",
       "    <tr>\n",
       "      <th>75%</th>\n",
       "      <td>2019.000000</td>\n",
       "      <td>7.200000</td>\n",
       "      <td>1.513550e+04</td>\n",
       "    </tr>\n",
       "    <tr>\n",
       "      <th>max</th>\n",
       "      <td>2024.000000</td>\n",
       "      <td>9.500000</td>\n",
       "      <td>2.956023e+06</td>\n",
       "    </tr>\n",
       "  </tbody>\n",
       "</table>\n",
       "</div>"
      ],
      "text/plain": [
       "        releaseYear  imdbAverageRating  imdbNumVotes\n",
       "count  15848.000000       15134.000000  1.513400e+04\n",
       "mean    2010.643362           6.491483  3.878343e+04\n",
       "std       15.307278           1.060376  1.335789e+05\n",
       "min     1913.000000           1.200000  5.000000e+00\n",
       "25%     2008.000000           5.900000  4.262500e+02\n",
       "50%     2016.000000           6.600000  2.088000e+03\n",
       "75%     2019.000000           7.200000  1.513550e+04\n",
       "max     2024.000000           9.500000  2.956023e+06"
      ]
     },
     "execution_count": 8,
     "metadata": {},
     "output_type": "execute_result"
    }
   ],
   "source": [
    "df.describe()"
   ]
  },
  {
   "cell_type": "markdown",
   "id": "72e93bd5",
   "metadata": {},
   "source": [
    "### Inspect Missing Values in the Dataset"
   ]
  },
  {
   "cell_type": "code",
   "execution_count": 9,
   "id": "b6ac7baa",
   "metadata": {},
   "outputs": [
    {
     "data": {
      "text/plain": [
       "url                   9158\n",
       "imdbAverageRating      726\n",
       "imdbNumVotes           726\n",
       "imdbId                 682\n",
       "title                  500\n",
       "genres                 148\n",
       "releaseYear             12\n",
       "type                     0\n",
       "availableCountries       0\n",
       "dtype: int64"
      ]
     },
     "execution_count": 9,
     "metadata": {},
     "output_type": "execute_result"
    }
   ],
   "source": [
    "df.isnull().sum().sort_values(ascending=False)"
   ]
  },
  {
   "cell_type": "code",
   "execution_count": 10,
   "id": "f64d4872",
   "metadata": {},
   "outputs": [
    {
     "data": {
      "text/plain": [
       "url                   57.74\n",
       "imdbAverageRating      4.58\n",
       "imdbNumVotes           4.58\n",
       "imdbId                 4.30\n",
       "title                  3.15\n",
       "genres                 0.93\n",
       "releaseYear            0.08\n",
       "type                   0.00\n",
       "availableCountries     0.00\n",
       "dtype: float64"
      ]
     },
     "execution_count": 10,
     "metadata": {},
     "output_type": "execute_result"
    }
   ],
   "source": [
    "round(df.isnull().sum()/df.shape[0]*100,2).sort_values(ascending=False)"
   ]
  },
  {
   "cell_type": "code",
   "execution_count": 12,
   "id": "e0486aba",
   "metadata": {},
   "outputs": [
    {
     "data": {
      "text/plain": [
       "genres\n",
       "Comedy                          1309\n",
       "Drama                           1229\n",
       "Comedy, Drama                    641\n",
       "Drama, Romance                   539\n",
       "Comedy, Drama, Romance           519\n",
       "Comedy, Romance                  503\n",
       "Documentary                      501\n",
       "Action, Adventure, Animation     465\n",
       "Action, Crime, Drama             335\n",
       "Adventure, Animation, Comedy     321\n",
       "Name: count, dtype: int64"
      ]
     },
     "execution_count": 12,
     "metadata": {},
     "output_type": "execute_result"
    }
   ],
   "source": [
    "df[\"genres\"].value_counts().head(10)"
   ]
  },
  {
   "cell_type": "markdown",
   "id": "d5b606a2",
   "metadata": {},
   "source": [
    "<div style=\"border-radius: 30px 0 30px 0px; border: 2px solid #00ea98; padding: 20px; background-color: #0a141b; text-align: center; box-shadow: 0px 2px 4px rgba(0, 0, 0, 0.2);\">\n",
    "    <h1 style=\"color: #7ab052; text-shadow: 2px 2px 4px rgba(0, 0, 0, 0.5); font-weight: bold; margin-bottom: 10px; font-size: 36px;\">Simple Plots</h1>\n",
    "</div>\n"
   ]
  },
  {
   "cell_type": "code",
   "execution_count": 112,
   "id": "2b910e20",
   "metadata": {},
   "outputs": [
    {
     "data": {
      "image/png": "[encoded data removed]",
      "text/plain": [
       "<Figure size 1500x1500 with 9 Axes>"
      ]
     },
     "metadata": {},
     "output_type": "display_data"
    }
   ],
   "source": [
    "\n",
    "\n",
    "# Sample the dataset to reduce size for plotting\n",
    "sample_size = 1000  # Adjust the sample size as needed\n",
    "df_sample = df.sample(n=sample_size, random_state=1)  # Set random_state for reproducibility\n",
    "\n",
    "# Set the number of subplots based on the number of columns, excluding 'availableCountries'\n",
    "columns_to_plot = df_sample.columns[df_sample.columns != 'availableCountries']\n",
    "num_cols = len(columns_to_plot)\n",
    "\n",
    "fig, axes = plt.subplots(nrows=(num_cols // 3) + 1, ncols=3, figsize=(15, 5 * ((num_cols // 3) + 1)))\n",
    "\n",
    "# Flatten the axes array for easy iteration\n",
    "axes = axes.flatten()\n",
    "\n",
    "# Loop through each column and create a plot, skipping 'availableCountries'\n",
    "for i, column in enumerate(columns_to_plot):\n",
    "    if pd.api.types.is_numeric_dtype(df_sample[column]):\n",
    "        df_sample[column].plot(kind='hist', ax=axes[i], title=column, bins=10)  # Reduced bins\n",
    "    else:\n",
    "        top_n = 10  # Limit to top N categories\n",
    "        df_sample[column].value_counts().nlargest(top_n).plot(kind='bar', ax=axes[i], title=column)\n",
    "\n",
    "    axes[i].set_xlabel(column)\n",
    "    axes[i].set_ylabel('Frequency')\n",
    "\n",
    "# Hide any unused subplots\n",
    "for j in range(i + 1, len(axes)):\n",
    "    axes[j].set_visible(False)\n",
    "\n",
    "# Adjust layout for more space between plots\n",
    "plt.tight_layout(pad=3.0, w_pad=2.0, h_pad=2.0)  # Increase padding both horizontally and vertically\n",
    "plt.show()"
   ]
  },
  {
   "cell_type": "markdown",
   "id": "79a17ebe",
   "metadata": {},
   "source": [
    "<div style=\"border-radius: 30px 0 30px 0px; border: 2px solid #00ea98; padding: 20px; background-color: #0a141b; text-align: center; box-shadow: 0px 2px 4px rgba(0, 0, 0, 0.2);\">\n",
    "    <h1 style=\"color: #7ab052; text-shadow: 2px 2px 4px rgba(0, 0, 0, 0.5); font-weight: bold; margin-bottom: 10px; font-size: 36px;\">Movies vs  TvShows</h1>\n",
    "</div>\n"
   ]
  },
  {
   "cell_type": "code",
   "execution_count": 13,
   "id": "594eec6f",
   "metadata": {},
   "outputs": [
    {
     "data": {
      "application/vnd.plotly.v1+json": {
       "config": {
        "plotlyServerURL": "https://plot.ly"
       },
       "data": [
        {
         "hole": 0.5,
         "labels": [
          "movie",
          "tv"
         ],
         "title": {
          "text": "Movies Vs TV Shows"
         },
         "type": "pie",
         "values": [
          0.7092686002522068,
          0.2907313997477932
         ]
        }
       ],
       "layout": {
        "template": {
         "data": {
          "bar": [
           {
            "error_x": {
             "color": "#2a3f5f"
            },
            "error_y": {
             "color": "#2a3f5f"
            },
            "marker": {
             "line": {
              "color": "#E5ECF6",
              "width": 0.5
             },
             "pattern": {
              "fillmode": "overlay",
              "size": 10,
              "solidity": 0.2
             }
            },
            "type": "bar"
           }
          ],
          "barpolar": [
           {
            "marker": {
             "line": {
              "color": "#E5ECF6",
              "width": 0.5
             },
             "pattern": {
              "fillmode": "overlay",
              "size": 10,
              "solidity": 0.2
             }
            },
            "type": "barpolar"
           }
          ],
          "carpet": [
           {
            "aaxis": {
             "endlinecolor": "#2a3f5f",
             "gridcolor": "white",
             "linecolor": "white",
             "minorgridcolor": "white",
             "startlinecolor": "#2a3f5f"
            },
            "baxis": {
             "endlinecolor": "#2a3f5f",
             "gridcolor": "white",
             "linecolor": "white",
             "minorgridcolor": "white",
             "startlinecolor": "#2a3f5f"
            },
            "type": "carpet"
           }
          ],
          "choropleth": [
           {
            "colorbar": {
             "outlinewidth": 0,
             "ticks": ""
            },
            "type": "choropleth"
           }
          ],
          "contour": [
           {
            "colorbar": {
             "outlinewidth": 0,
             "ticks": ""
            },
            "colorscale": [
             [
              0,
              "#0d0887"
             ],
             [
              0.1111111111111111,
              "#46039f"
             ],
             [
              0.2222222222222222,
              "#7201a8"
             ],
             [
              0.3333333333333333,
              "#9c179e"
             ],
             [
              0.4444444444444444,
              "#bd3786"
             ],
             [
              0.5555555555555556,
              "#d8576b"
             ],
             [
              0.6666666666666666,
              "#ed7953"
             ],
             [
              0.7777777777777778,
              "#fb9f3a"
             ],
             [
              0.8888888888888888,
              "#fdca26"
             ],
             [
              1,
              "#f0f921"
             ]
            ],
            "type": "contour"
           }
          ],
          "contourcarpet": [
           {
            "colorbar": {
             "outlinewidth": 0,
             "ticks": ""
            },
            "type": "contourcarpet"
           }
          ],
          "heatmap": [
           {
            "colorbar": {
             "outlinewidth": 0,
             "ticks": ""
            },
            "colorscale": [
             [
              0,
              "#0d0887"
             ],
             [
              0.1111111111111111,
              "#46039f"
             ],
             [
              0.2222222222222222,
              "#7201a8"
             ],
             [
              0.3333333333333333,
              "#9c179e"
             ],
             [
              0.4444444444444444,
              "#bd3786"
             ],
             [
              0.5555555555555556,
              "#d8576b"
             ],
             [
              0.6666666666666666,
              "#ed7953"
             ],
             [
              0.7777777777777778,
              "#fb9f3a"
             ],
             [
              0.8888888888888888,
              "#fdca26"
             ],
             [
              1,
              "#f0f921"
             ]
            ],
            "type": "heatmap"
           }
          ],
          "heatmapgl": [
           {
            "colorbar": {
             "outlinewidth": 0,
             "ticks": ""
            },
            "colorscale": [
             [
              0,
              "#0d0887"
             ],
             [
              0.1111111111111111,
              "#46039f"
             ],
             [
              0.2222222222222222,
              "#7201a8"
             ],
             [
              0.3333333333333333,
              "#9c179e"
             ],
             [
              0.4444444444444444,
              "#bd3786"
             ],
             [
              0.5555555555555556,
              "#d8576b"
             ],
             [
              0.6666666666666666,
              "#ed7953"
             ],
             [
              0.7777777777777778,
              "#fb9f3a"
             ],
             [
              0.8888888888888888,
              "#fdca26"
             ],
             [
              1,
              "#f0f921"
             ]
            ],
            "type": "heatmapgl"
           }
          ],
          "histogram": [
           {
            "marker": {
             "pattern": {
              "fillmode": "overlay",
              "size": 10,
              "solidity": 0.2
             }
            },
            "type": "histogram"
           }
          ],
          "histogram2d": [
           {
            "colorbar": {
             "outlinewidth": 0,
             "ticks": ""
            },
            "colorscale": [
             [
              0,
              "#0d0887"
             ],
             [
              0.1111111111111111,
              "#46039f"
             ],
             [
              0.2222222222222222,
              "#7201a8"
             ],
             [
              0.3333333333333333,
              "#9c179e"
             ],
             [
              0.4444444444444444,
              "#bd3786"
             ],
             [
              0.5555555555555556,
              "#d8576b"
             ],
             [
              0.6666666666666666,
              "#ed7953"
             ],
             [
              0.7777777777777778,
              "#fb9f3a"
             ],
             [
              0.8888888888888888,
              "#fdca26"
             ],
             [
              1,
              "#f0f921"
             ]
            ],
            "type": "histogram2d"
           }
          ],
          "histogram2dcontour": [
           {
            "colorbar": {
             "outlinewidth": 0,
             "ticks": ""
            },
            "colorscale": [
             [
              0,
              "#0d0887"
             ],
             [
              0.1111111111111111,
              "#46039f"
             ],
             [
              0.2222222222222222,
              "#7201a8"
             ],
             [
              0.3333333333333333,
              "#9c179e"
             ],
             [
              0.4444444444444444,
              "#bd3786"
             ],
             [
              0.5555555555555556,
              "#d8576b"
             ],
             [
              0.6666666666666666,
              "#ed7953"
             ],
             [
              0.7777777777777778,
              "#fb9f3a"
             ],
             [
              0.8888888888888888,
              "#fdca26"
             ],
             [
              1,
              "#f0f921"
             ]
            ],
            "type": "histogram2dcontour"
           }
          ],
          "mesh3d": [
           {
            "colorbar": {
             "outlinewidth": 0,
             "ticks": ""
            },
            "type": "mesh3d"
           }
          ],
          "parcoords": [
           {
            "line": {
             "colorbar": {
              "outlinewidth": 0,
              "ticks": ""
             }
            },
            "type": "parcoords"
           }
          ],
          "pie": [
           {
            "automargin": true,
            "type": "pie"
           }
          ],
          "scatter": [
           {
            "fillpattern": {
             "fillmode": "overlay",
             "size": 10,
             "solidity": 0.2
            },
            "type": "scatter"
           }
          ],
          "scatter3d": [
           {
            "line": {
             "colorbar": {
              "outlinewidth": 0,
              "ticks": ""
             }
            },
            "marker": {
             "colorbar": {
              "outlinewidth": 0,
              "ticks": ""
             }
            },
            "type": "scatter3d"
           }
          ],
          "scattercarpet": [
           {
            "marker": {
             "colorbar": {
              "outlinewidth": 0,
              "ticks": ""
             }
            },
            "type": "scattercarpet"
           }
          ],
          "scattergeo": [
           {
            "marker": {
             "colorbar": {
              "outlinewidth": 0,
              "ticks": ""
             }
            },
            "type": "scattergeo"
           }
          ],
          "scattergl": [
           {
            "marker": {
             "colorbar": {
              "outlinewidth": 0,
              "ticks": ""
             }
            },
            "type": "scattergl"
           }
          ],
          "scattermapbox": [
           {
            "marker": {
             "colorbar": {
              "outlinewidth": 0,
              "ticks": ""
             }
            },
            "type": "scattermapbox"
           }
          ],
          "scatterpolar": [
           {
            "marker": {
             "colorbar": {
              "outlinewidth": 0,
              "ticks": ""
             }
            },
            "type": "scatterpolar"
           }
          ],
          "scatterpolargl": [
           {
            "marker": {
             "colorbar": {
              "outlinewidth": 0,
              "ticks": ""
             }
            },
            "type": "scatterpolargl"
           }
          ],
          "scatterternary": [
           {
            "marker": {
             "colorbar": {
              "outlinewidth": 0,
              "ticks": ""
             }
            },
            "type": "scatterternary"
           }
          ],
          "surface": [
           {
            "colorbar": {
             "outlinewidth": 0,
             "ticks": ""
            },
            "colorscale": [
             [
              0,
              "#0d0887"
             ],
             [
              0.1111111111111111,
              "#46039f"
             ],
             [
              0.2222222222222222,
              "#7201a8"
             ],
             [
              0.3333333333333333,
              "#9c179e"
             ],
             [
              0.4444444444444444,
              "#bd3786"
             ],
             [
              0.5555555555555556,
              "#d8576b"
             ],
             [
              0.6666666666666666,
              "#ed7953"
             ],
             [
              0.7777777777777778,
              "#fb9f3a"
             ],
             [
              0.8888888888888888,
              "#fdca26"
             ],
             [
              1,
              "#f0f921"
             ]
            ],
            "type": "surface"
           }
          ],
          "table": [
           {
            "cells": {
             "fill": {
              "color": "#EBF0F8"
             },
             "line": {
              "color": "white"
             }
            },
            "header": {
             "fill": {
              "color": "#C8D4E3"
             },
             "line": {
              "color": "white"
             }
            },
            "type": "table"
           }
          ]
         },
         "layout": {
          "annotationdefaults": {
           "arrowcolor": "#2a3f5f",
           "arrowhead": 0,
           "arrowwidth": 1
          },
          "autotypenumbers": "strict",
          "coloraxis": {
           "colorbar": {
            "outlinewidth": 0,
            "ticks": ""
           }
          },
          "colorscale": {
           "diverging": [
            [
             0,
             "#8e0152"
            ],
            [
             0.1,
             "#c51b7d"
            ],
            [
             0.2,
             "#de77ae"
            ],
            [
             0.3,
             "#f1b6da"
            ],
            [
             0.4,
             "#fde0ef"
            ],
            [
             0.5,
             "#f7f7f7"
            ],
            [
             0.6,
             "#e6f5d0"
            ],
            [
             0.7,
             "#b8e186"
            ],
            [
             0.8,
             "#7fbc41"
            ],
            [
             0.9,
             "#4d9221"
            ],
            [
             1,
             "#276419"
            ]
           ],
           "sequential": [
            [
             0,
             "#0d0887"
            ],
            [
             0.1111111111111111,
             "#46039f"
            ],
            [
             0.2222222222222222,
             "#7201a8"
            ],
            [
             0.3333333333333333,
             "#9c179e"
            ],
            [
             0.4444444444444444,
             "#bd3786"
            ],
            [
             0.5555555555555556,
             "#d8576b"
            ],
            [
             0.6666666666666666,
             "#ed7953"
            ],
            [
             0.7777777777777778,
             "#fb9f3a"
            ],
            [
             0.8888888888888888,
             "#fdca26"
            ],
            [
             1,
             "#f0f921"
            ]
           ],
           "sequentialminus": [
            [
             0,
             "#0d0887"
            ],
            [
             0.1111111111111111,
             "#46039f"
            ],
            [
             0.2222222222222222,
             "#7201a8"
            ],
            [
             0.3333333333333333,
             "#9c179e"
            ],
            [
             0.4444444444444444,
             "#bd3786"
            ],
            [
             0.5555555555555556,
             "#d8576b"
            ],
            [
             0.6666666666666666,
             "#ed7953"
            ],
            [
             0.7777777777777778,
             "#fb9f3a"
            ],
            [
             0.8888888888888888,
             "#fdca26"
            ],
            [
             1,
             "#f0f921"
            ]
           ]
          },
          "colorway": [
           "#636efa",
           "#EF553B",
           "#00cc96",
           "#ab63fa",
           "#FFA15A",
           "#19d3f3",
           "#FF6692",
           "#B6E880",
           "#FF97FF",
           "#FECB52"
          ],
          "font": {
           "color": "#2a3f5f"
          },
          "geo": {
           "bgcolor": "white",
           "lakecolor": "white",
           "landcolor": "#E5ECF6",
           "showlakes": true,
           "showland": true,
           "subunitcolor": "white"
          },
          "hoverlabel": {
           "align": "left"
          },
          "hovermode": "closest",
          "mapbox": {
           "style": "light"
          },
          "paper_bgcolor": "white",
          "plot_bgcolor": "#E5ECF6",
          "polar": {
           "angularaxis": {
            "gridcolor": "white",
            "linecolor": "white",
            "ticks": ""
           },
           "bgcolor": "#E5ECF6",
           "radialaxis": {
            "gridcolor": "white",
            "linecolor": "white",
            "ticks": ""
           }
          },
          "scene": {
           "xaxis": {
            "backgroundcolor": "#E5ECF6",
            "gridcolor": "white",
            "gridwidth": 2,
            "linecolor": "white",
            "showbackground": true,
            "ticks": "",
            "zerolinecolor": "white"
           },
           "yaxis": {
            "backgroundcolor": "#E5ECF6",
            "gridcolor": "white",
            "gridwidth": 2,
            "linecolor": "white",
            "showbackground": true,
            "ticks": "",
            "zerolinecolor": "white"
           },
           "zaxis": {
            "backgroundcolor": "#E5ECF6",
            "gridcolor": "white",
            "gridwidth": 2,
            "linecolor": "white",
            "showbackground": true,
            "ticks": "",
            "zerolinecolor": "white"
           }
          },
          "shapedefaults": {
           "line": {
            "color": "#2a3f5f"
           }
          },
          "ternary": {
           "aaxis": {
            "gridcolor": "white",
            "linecolor": "white",
            "ticks": ""
           },
           "baxis": {
            "gridcolor": "white",
            "linecolor": "white",
            "ticks": ""
           },
           "bgcolor": "#E5ECF6",
           "caxis": {
            "gridcolor": "white",
            "linecolor": "white",
            "ticks": ""
           }
          },
          "title": {
           "x": 0.05
          },
          "xaxis": {
           "automargin": true,
           "gridcolor": "white",
           "linecolor": "white",
           "ticks": "",
           "title": {
            "standoff": 15
           },
           "zerolinecolor": "white",
           "zerolinewidth": 2
          },
          "yaxis": {
           "automargin": true,
           "gridcolor": "white",
           "linecolor": "white",
           "ticks": "",
           "title": {
            "standoff": 15
           },
           "zerolinecolor": "white",
           "zerolinewidth": 2
          }
         }
        }
       }
      }
     },
     "metadata": {},
     "output_type": "display_data"
    }
   ],
   "source": [
    "#Checking Gender imbalance\n",
    "go.Figure(data=[go.Pie(labels=df.type.value_counts(normalize=True).index,\n",
    "                       values=df.type.value_counts(normalize=True).values, hole=.5,\n",
    "                       title = 'Movies Vs TV Shows')])"
   ]
  },
  {
   "cell_type": "code",
   "execution_count": 14,
   "id": "a8bf5f91",
   "metadata": {},
   "outputs": [
    {
     "data": {
      "text/plain": [
       "type\n",
       "movie    11249\n",
       "tv        4611\n",
       "Name: count, dtype: int64"
      ]
     },
     "execution_count": 14,
     "metadata": {},
     "output_type": "execute_result"
    }
   ],
   "source": [
    "df.type.value_counts()"
   ]
  },
  {
   "cell_type": "code",
   "execution_count": 16,
   "id": "7c4cc5e3",
   "metadata": {},
   "outputs": [
    {
     "data": {
      "text/plain": [
       "imdbAverageRating\n",
       "6.6    651\n",
       "6.4    630\n",
       "6.2    629\n",
       "6.8    615\n",
       "6.7    615\n",
       "      ... \n",
       "1.9      2\n",
       "1.7      1\n",
       "2.3      1\n",
       "9.5      1\n",
       "9.4      1\n",
       "Name: count, Length: 80, dtype: int64"
      ]
     },
     "execution_count": 16,
     "metadata": {},
     "output_type": "execute_result"
    }
   ],
   "source": [
    "df.imdbAverageRating.value_counts()"
   ]
  },
  {
   "cell_type": "code",
   "execution_count": 20,
   "id": "abbde428",
   "metadata": {},
   "outputs": [
    {
     "data": {
      "image/png": "[encoded data removed]",
      "text/plain": [
       "<Figure size 1000x600 with 1 Axes>"
      ]
     },
     "metadata": {},
     "output_type": "display_data"
    }
   ],
   "source": [
    "import seaborn as sns\n",
    "import matplotlib.pyplot as plt\n",
    "\n",
    "# Calculate the value counts of IMDb average ratings\n",
    "rating_counts = df['imdbAverageRating'].value_counts()\n",
    "\n",
    "# Create a horizontal bar plot\n",
    "plt.figure(figsize=(10, 6))\n",
    "sns.barplot(x=rating_counts.values, y=rating_counts.index, orient=\"h\")\n",
    "plt.title('Count of Movies by IMDb Average Rating')\n",
    "plt.xlabel('Count')\n",
    "plt.ylabel('IMDb Average Rating')\n",
    "plt.show()"
   ]
  },
  {
   "cell_type": "markdown",
   "id": "77be8156",
   "metadata": {},
   "source": [
    "The highest count - TV-MA is the rating that shows that a program is intended for adults. ‘MA’ stands for ‘mature audiences’. Children aged 17 and younger should not view these programs.\n",
    "\n",
    "Second largest is the 'TV-14'.\n",
    "A TV-14 program is meant for children over 14 years of age. It is generally not recommended to let children watch the program without parental attendance, or at least without them vetting it first. It can contain crude humor, the use of harmful substances, strong language, violence, and complex or upsetting themes.\n",
    "\n",
    "Third largest is the very popular 'R' rating. R is the short for retricted, so any young person under 17 should not watch."
   ]
  },
  {
   "cell_type": "code",
   "execution_count": 22,
   "id": "c430afec",
   "metadata": {},
   "outputs": [
    {
     "data": {
      "text/plain": [
       "availableCountries\n",
       "KR                                                                                                                                                                                                                                                                                                                                                                                                                                                                                                                                            949\n",
       "AD, AE, AG, AL, AO, AR, AT, AU, AZ, BA, BB, BE, BG, BH, BM, BO, BR, BS, BY, BZ, CA, CH, CI, CL, CM, CO, CR, CU, CV, CY, CZ, DE, DK, DO, DZ, EC, EE, EG, ES, FI, FJ, FR, GB, GF, GG, GH, GI, GQ, GR, GT, HK, HN, HR, HU, ID, IE, IL, IN, IQ, IS, IT, JM, JO, JP, KE, KR, KW, LB, LC, LI, LT, LU, LV, LY, MA, MC, MD, ME, MG, MK, ML, MT, MU, MX, MY, MZ, NE, NG, NI, NL, NO, NZ, OM, PA, PE, PF, PH, PK, PL, PS, PT, PY, QA, RO, RS, SA, SC, SE, SG, SI, SK, SM, SN, SV, TC, TH, TN, TR, TT, TW, TZ, UA, UG, US, UY, VE, YE, ZA, ZM, ZW        831\n",
       "JP                                                                                                                                                                                                                                                                                                                                                                                                                                                                                                                                            584\n",
       "AD, AE, AL, AO, AR, AT, AU, AZ, BA, BB, BE, BG, BH, BM, BO, BR, BS, BY, BZ, CA, CH, CI, CL, CM, CO, CR, CU, CV, CY, CZ, DE, DK, DO, DZ, EC, EE, EG, ES, FI, FJ, FR, GB, GF, GG, GH, GI, GQ, GR, GT, HK, HN, HR, HU, ID, IE, IL, IN, IQ, IS, IT, JM, JO, JP, KE, KR, KW, LB, LC, LI, LT, LU, LV, LY, MA, MC, MD, ME, MG, MK, ML, MT, MU, MX, MY, MZ, NE, NG, NI, NL, NO, NZ, OM, PA, PE, PF, PH, PK, PL, PS, PT, PY, QA, RO, RS, SA, SC, SE, SG, SI, SK, SM, SN, SV, TC, TH, TN, TR, TT, TW, TZ, UA, UG, US, UY, VE, YE, ZA, ZM, ZW            251\n",
       "US                                                                                                                                                                                                                                                                                                                                                                                                                                                                                                                                            249\n",
       "AD, AE, AG, AL, AO, AR, AT, AU, AZ, BA, BB, BE, BG, BH, BM, BO, BR, BS, BY, BZ, CA, CH, CI, CL, CM, CO, CR, CU, CV, CY, CZ, DE, DK, DO, DZ, EC, EE, EG, ES, FI, FJ, FR, GB, GF, GG, GH, GI, GQ, GR, GT, HK, HN, HR, HU, ID, IE, IL, IN, IQ, IS, IT, JM, JO, JP, KE, KR, KW, LB, LC, LI, LT, LU, LV, LY, MA, MC, MD, ME, MG, MK, ML, MT, MU, MX, MY, MZ, NE, NG, NI, NL, NO, NZ, OM, PA, PE, PF, PH, PK, PL, PS, PT, PY, QA, RO, RS, SA, SC, SE, SG, SI, SK, SM, SN, SV, TC, TH, TN, TR, TT, TW, TZ, UG, US, UY, VE, YE, ZA, ZM, ZW            248\n",
       "TW                                                                                                                                                                                                                                                                                                                                                                                                                                                                                                                                            216\n",
       "CA                                                                                                                                                                                                                                                                                                                                                                                                                                                                                                                                            208\n",
       "TH                                                                                                                                                                                                                                                                                                                                                                                                                                                                                                                                            207\n",
       "AD, AE, AG, AL, AO, AR, AT, AU, AZ, BA, BB, BE, BG, BH, BM, BO, BR, BS, BY, BZ, CA, CH, CI, CL, CM, CO, CR, CU, CV, CY, CZ, DE, DK, DO, DZ, EC, EE, EG, ES, FI, FJ, FR, GB, GF, GG, GH, GI, GQ, GR, GT, HK, HN, HR, HU, ID, IE, IL, IN, IQ, IS, IT, JM, JO, JP, KE, KR, KW, LB, LC, LI, LT, LU, LV, LY, MA, MC, MD, ME, MG, MK, ML, MT, MU, MX, MY, MZ, NE, NG, NI, NL, NO, NZ, OM, PA, PE, PF, PH, PK, PL, PS, PT, PY, QA, RO, RS, SA, SC, SE, SG, SI, SK, SM, SN, SV, TC, TD, TH, TN, TR, TT, TW, TZ, UA, UG, US, UY, VE, YE, ZA, ZM, ZW    194\n",
       "Name: count, dtype: int64"
      ]
     },
     "execution_count": 22,
     "metadata": {},
     "output_type": "execute_result"
    }
   ],
   "source": [
    "df.availableCountries.value_counts().head(10)"
   ]
  },
  {
   "cell_type": "code",
   "execution_count": 23,
   "id": "adaf3f9b",
   "metadata": {},
   "outputs": [
    {
     "data": {
      "text/plain": [
       "availableCountries\n",
       "KR                                                                                                                                                                                                                                                                                                                                                                                                                                                                                                                                            949\n",
       "AD, AE, AG, AL, AO, AR, AT, AU, AZ, BA, BB, BE, BG, BH, BM, BO, BR, BS, BY, BZ, CA, CH, CI, CL, CM, CO, CR, CU, CV, CY, CZ, DE, DK, DO, DZ, EC, EE, EG, ES, FI, FJ, FR, GB, GF, GG, GH, GI, GQ, GR, GT, HK, HN, HR, HU, ID, IE, IL, IN, IQ, IS, IT, JM, JO, JP, KE, KR, KW, LB, LC, LI, LT, LU, LV, LY, MA, MC, MD, ME, MG, MK, ML, MT, MU, MX, MY, MZ, NE, NG, NI, NL, NO, NZ, OM, PA, PE, PF, PH, PK, PL, PS, PT, PY, QA, RO, RS, SA, SC, SE, SG, SI, SK, SM, SN, SV, TC, TH, TN, TR, TT, TW, TZ, UA, UG, US, UY, VE, YE, ZA, ZM, ZW        831\n",
       "JP                                                                                                                                                                                                                                                                                                                                                                                                                                                                                                                                            584\n",
       "AD, AE, AL, AO, AR, AT, AU, AZ, BA, BB, BE, BG, BH, BM, BO, BR, BS, BY, BZ, CA, CH, CI, CL, CM, CO, CR, CU, CV, CY, CZ, DE, DK, DO, DZ, EC, EE, EG, ES, FI, FJ, FR, GB, GF, GG, GH, GI, GQ, GR, GT, HK, HN, HR, HU, ID, IE, IL, IN, IQ, IS, IT, JM, JO, JP, KE, KR, KW, LB, LC, LI, LT, LU, LV, LY, MA, MC, MD, ME, MG, MK, ML, MT, MU, MX, MY, MZ, NE, NG, NI, NL, NO, NZ, OM, PA, PE, PF, PH, PK, PL, PS, PT, PY, QA, RO, RS, SA, SC, SE, SG, SI, SK, SM, SN, SV, TC, TH, TN, TR, TT, TW, TZ, UA, UG, US, UY, VE, YE, ZA, ZM, ZW            251\n",
       "US                                                                                                                                                                                                                                                                                                                                                                                                                                                                                                                                            249\n",
       "AD, AE, AG, AL, AO, AR, AT, AU, AZ, BA, BB, BE, BG, BH, BM, BO, BR, BS, BY, BZ, CA, CH, CI, CL, CM, CO, CR, CU, CV, CY, CZ, DE, DK, DO, DZ, EC, EE, EG, ES, FI, FJ, FR, GB, GF, GG, GH, GI, GQ, GR, GT, HK, HN, HR, HU, ID, IE, IL, IN, IQ, IS, IT, JM, JO, JP, KE, KR, KW, LB, LC, LI, LT, LU, LV, LY, MA, MC, MD, ME, MG, MK, ML, MT, MU, MX, MY, MZ, NE, NG, NI, NL, NO, NZ, OM, PA, PE, PF, PH, PK, PL, PS, PT, PY, QA, RO, RS, SA, SC, SE, SG, SI, SK, SM, SN, SV, TC, TH, TN, TR, TT, TW, TZ, UG, US, UY, VE, YE, ZA, ZM, ZW            248\n",
       "TW                                                                                                                                                                                                                                                                                                                                                                                                                                                                                                                                            216\n",
       "CA                                                                                                                                                                                                                                                                                                                                                                                                                                                                                                                                            208\n",
       "TH                                                                                                                                                                                                                                                                                                                                                                                                                                                                                                                                            207\n",
       "AD, AE, AG, AL, AO, AR, AT, AU, AZ, BA, BB, BE, BG, BH, BM, BO, BR, BS, BY, BZ, CA, CH, CI, CL, CM, CO, CR, CU, CV, CY, CZ, DE, DK, DO, DZ, EC, EE, EG, ES, FI, FJ, FR, GB, GF, GG, GH, GI, GQ, GR, GT, HK, HN, HR, HU, ID, IE, IL, IN, IQ, IS, IT, JM, JO, JP, KE, KR, KW, LB, LC, LI, LT, LU, LV, LY, MA, MC, MD, ME, MG, MK, ML, MT, MU, MX, MY, MZ, NE, NG, NI, NL, NO, NZ, OM, PA, PE, PF, PH, PK, PL, PS, PT, PY, QA, RO, RS, SA, SC, SE, SG, SI, SK, SM, SN, SV, TC, TD, TH, TN, TR, TT, TW, TZ, UA, UG, US, UY, VE, YE, ZA, ZM, ZW    194\n",
       "Name: count, dtype: int64"
      ]
     },
     "execution_count": 23,
     "metadata": {},
     "output_type": "execute_result"
    }
   ],
   "source": [
    "df.availableCountries.value_counts().head(10)"
   ]
  },
  {
   "cell_type": "markdown",
   "id": "0eba15ec",
   "metadata": {},
   "source": [
    "<div style=\"border-radius: 30px 0 30px 0px; border: 2px solid #00ea98; padding: 20px; background-color: #0a141b; text-align: center; box-shadow: 0px 2px 4px rgba(0, 0, 0, 0.2);\">\n",
    "    <h1 style=\"color: #7ab052; text-shadow: 2px 2px 4px rgba(0, 0, 0, 0.5); font-weight: bold; margin-bottom: 10px; font-size: 36px;\"> Year Wise Count</h1>\n",
    "</div>\n"
   ]
  },
  {
   "cell_type": "code",
   "execution_count": 25,
   "id": "e949f8d5",
   "metadata": {},
   "outputs": [
    {
     "data": {
      "image/png": "[encoded data removed]",
      "text/plain": [
       "<Figure size 1200x1000 with 1 Axes>"
      ]
     },
     "metadata": {},
     "output_type": "display_data"
    }
   ],
   "source": [
    "plt.figure(figsize=(12,10))\n",
    "ax = sns.countplot(y=\"releaseYear\", data=df, order=df.releaseYear.value_counts().index[0:15])"
   ]
  },
  {
   "cell_type": "markdown",
   "id": "79dd8a72",
   "metadata": {},
   "source": [
    "Highest Releases in 2019 followed by 2018 and 2017"
   ]
  },
  {
   "cell_type": "code",
   "execution_count": 26,
   "id": "8f57f571",
   "metadata": {},
   "outputs": [
    {
     "data": {
      "text/plain": [
       "genres\n",
       "Comedy                          1309\n",
       "Drama                           1229\n",
       "Comedy, Drama                    641\n",
       "Drama, Romance                   539\n",
       "Comedy, Drama, Romance           519\n",
       "Comedy, Romance                  503\n",
       "Documentary                      501\n",
       "Action, Adventure, Animation     465\n",
       "Action, Crime, Drama             335\n",
       "Adventure, Animation, Comedy     321\n",
       "Name: count, dtype: int64"
      ]
     },
     "execution_count": 26,
     "metadata": {},
     "output_type": "execute_result"
    }
   ],
   "source": [
    "# Top 10 genres\n",
    "\n",
    "df.genres.value_counts().head(10)"
   ]
  },
  {
   "cell_type": "code",
   "execution_count": 29,
   "id": "889e9a74",
   "metadata": {},
   "outputs": [
    {
     "data": {
      "text/plain": [
       "genres\n",
       "Drama, Horror, Music            1\n",
       "Animation, Biography, Comedy    1\n",
       "Fantasy, Music                  1\n",
       "Documentary, War, History       1\n",
       "Reality, Family                 1\n",
       "Name: count, dtype: int64"
      ]
     },
     "execution_count": 29,
     "metadata": {},
     "output_type": "execute_result"
    }
   ],
   "source": [
    "df.genres.value_counts().tail()"
   ]
  },
  {
   "cell_type": "code",
   "execution_count": 31,
   "id": "2cbbb3fa",
   "metadata": {},
   "outputs": [
    {
     "data": {
      "image/png": "[encoded data removed]",
      "text/plain": [
       "<Figure size 1200x1000 with 1 Axes>"
      ]
     },
     "metadata": {},
     "output_type": "display_data"
    }
   ],
   "source": [
    "plt.figure(figsize=(12,10))\n",
    "ax = sns.countplot(y=\"genres\", data=df, order=df.genres.value_counts().index[0:15])"
   ]
  },
  {
   "cell_type": "markdown",
   "id": "2b90e31c",
   "metadata": {},
   "source": [
    "### Handling missing Values"
   ]
  },
  {
   "cell_type": "code",
   "execution_count": 32,
   "id": "0b9ac4d7",
   "metadata": {},
   "outputs": [
    {
     "data": {
      "text/plain": [
       "url                   57.74\n",
       "imdbAverageRating      4.58\n",
       "imdbNumVotes           4.58\n",
       "imdbId                 4.30\n",
       "title                  3.15\n",
       "genres                 0.93\n",
       "releaseYear            0.08\n",
       "type                   0.00\n",
       "availableCountries     0.00\n",
       "dtype: float64"
      ]
     },
     "execution_count": 32,
     "metadata": {},
     "output_type": "execute_result"
    }
   ],
   "source": [
    "round(df.isnull().sum()/df.shape[0]*100,2).sort_values(ascending=False)"
   ]
  },
  {
   "cell_type": "code",
   "execution_count": 33,
   "id": "a74b553d",
   "metadata": {},
   "outputs": [
    {
     "data": {
      "text/plain": [
       "url                   9158\n",
       "title                  500\n",
       "type                     0\n",
       "genres                 148\n",
       "releaseYear             12\n",
       "imdbId                 682\n",
       "imdbAverageRating      726\n",
       "imdbNumVotes           726\n",
       "availableCountries       0\n",
       "dtype: int64"
      ]
     },
     "execution_count": 33,
     "metadata": {},
     "output_type": "execute_result"
    }
   ],
   "source": [
    "round(df.isnull().sum())\n",
    "      "
   ]
  },
  {
   "cell_type": "code",
   "execution_count": 35,
   "id": "ec9914fd",
   "metadata": {},
   "outputs": [],
   "source": [
    "#Dropping rows for small percentages of null\n",
    "\n",
    "df.dropna(subset=[\"title\"],axis=0, inplace=True)"
   ]
  },
  {
   "cell_type": "code",
   "execution_count": 36,
   "id": "421a6d4c",
   "metadata": {},
   "outputs": [
    {
     "data": {
      "text/plain": [
       "(15360, 9)"
      ]
     },
     "execution_count": 36,
     "metadata": {},
     "output_type": "execute_result"
    }
   ],
   "source": [
    "df.shape"
   ]
  },
  {
   "cell_type": "code",
   "execution_count": 37,
   "id": "a5d4300e",
   "metadata": {},
   "outputs": [
    {
     "data": {
      "text/plain": [
       "url                   56.38\n",
       "imdbAverageRating      1.47\n",
       "imdbNumVotes           1.47\n",
       "imdbId                 1.18\n",
       "genres                 0.23\n",
       "title                  0.00\n",
       "type                   0.00\n",
       "releaseYear            0.00\n",
       "availableCountries     0.00\n",
       "dtype: float64"
      ]
     },
     "execution_count": 37,
     "metadata": {},
     "output_type": "execute_result"
    }
   ],
   "source": [
    "round(df.isnull().sum()/df.shape[0]*100,2).sort_values(ascending=False)"
   ]
  },
  {
   "cell_type": "code",
   "execution_count": 38,
   "id": "6366471e",
   "metadata": {},
   "outputs": [],
   "source": [
    "df.dropna(subset=[\"genres\"],axis=0, inplace=True)"
   ]
  },
  {
   "cell_type": "code",
   "execution_count": 39,
   "id": "c4458514",
   "metadata": {},
   "outputs": [
    {
     "data": {
      "text/plain": [
       "url                   56.28\n",
       "imdbAverageRating      1.25\n",
       "imdbNumVotes           1.25\n",
       "imdbId                 0.96\n",
       "title                  0.00\n",
       "type                   0.00\n",
       "genres                 0.00\n",
       "releaseYear            0.00\n",
       "availableCountries     0.00\n",
       "dtype: float64"
      ]
     },
     "execution_count": 39,
     "metadata": {},
     "output_type": "execute_result"
    }
   ],
   "source": [
    "round(df.isnull().sum()/df.shape[0]*100,2).sort_values(ascending=False)"
   ]
  },
  {
   "cell_type": "code",
   "execution_count": 40,
   "id": "148946af",
   "metadata": {},
   "outputs": [],
   "source": [
    "### replace missing values in country with \"Unknown\"\n",
    "df[\"availableCountries\"].replace(np.NaN, \"Unknown\", inplace=True)"
   ]
  },
  {
   "cell_type": "code",
   "execution_count": 41,
   "id": "4820bf58",
   "metadata": {},
   "outputs": [
    {
     "data": {
      "text/plain": [
       "url                   56.28\n",
       "imdbAverageRating      1.25\n",
       "imdbNumVotes           1.25\n",
       "imdbId                 0.96\n",
       "title                  0.00\n",
       "type                   0.00\n",
       "genres                 0.00\n",
       "releaseYear            0.00\n",
       "availableCountries     0.00\n",
       "dtype: float64"
      ]
     },
     "execution_count": 41,
     "metadata": {},
     "output_type": "execute_result"
    }
   ],
   "source": [
    "round(df.isnull().sum()/df.shape[0]*100,2).sort_values(ascending=False)"
   ]
  },
  {
   "cell_type": "code",
   "execution_count": 42,
   "id": "b3cabb58",
   "metadata": {},
   "outputs": [
    {
     "data": {
      "text/plain": [
       "availableCountries\n",
       "KR                                                                                                                                                                                                                                                                                                                                                                                                                                                                                                                                        832\n",
       "AD, AE, AG, AL, AO, AR, AT, AU, AZ, BA, BB, BE, BG, BH, BM, BO, BR, BS, BY, BZ, CA, CH, CI, CL, CM, CO, CR, CU, CV, CY, CZ, DE, DK, DO, DZ, EC, EE, EG, ES, FI, FJ, FR, GB, GF, GG, GH, GI, GQ, GR, GT, HK, HN, HR, HU, ID, IE, IL, IN, IQ, IS, IT, JM, JO, JP, KE, KR, KW, LB, LC, LI, LT, LU, LV, LY, MA, MC, MD, ME, MG, MK, ML, MT, MU, MX, MY, MZ, NE, NG, NI, NL, NO, NZ, OM, PA, PE, PF, PH, PK, PL, PS, PT, PY, QA, RO, RS, SA, SC, SE, SG, SI, SK, SM, SN, SV, TC, TH, TN, TR, TT, TW, TZ, UA, UG, US, UY, VE, YE, ZA, ZM, ZW    825\n",
       "JP                                                                                                                                                                                                                                                                                                                                                                                                                                                                                                                                        524\n",
       "AD, AE, AG, AL, AO, AR, AT, AU, AZ, BA, BB, BE, BG, BH, BM, BO, BR, BS, BY, BZ, CA, CH, CI, CL, CM, CO, CR, CU, CV, CY, CZ, DE, DK, DO, DZ, EC, EE, EG, ES, FI, FJ, FR, GB, GF, GG, GH, GI, GQ, GR, GT, HK, HN, HR, HU, ID, IE, IL, IN, IQ, IS, IT, JM, JO, JP, KE, KR, KW, LB, LC, LI, LT, LU, LV, LY, MA, MC, MD, ME, MG, MK, ML, MT, MU, MX, MY, MZ, NE, NG, NI, NL, NO, NZ, OM, PA, PE, PF, PH, PK, PL, PS, PT, PY, QA, RO, RS, SA, SC, SE, SG, SI, SK, SM, SN, SV, TC, TH, TN, TR, TT, TW, TZ, UG, US, UY, VE, YE, ZA, ZM, ZW        247\n",
       "US                                                                                                                                                                                                                                                                                                                                                                                                                                                                                                                                        245\n",
       "Name: count, dtype: int64"
      ]
     },
     "execution_count": 42,
     "metadata": {},
     "output_type": "execute_result"
    }
   ],
   "source": [
    "df.availableCountries.value_counts().head()"
   ]
  },
  {
   "cell_type": "code",
   "execution_count": 43,
   "id": "32bf2aa9",
   "metadata": {},
   "outputs": [
    {
     "data": {
      "text/plain": [
       "releaseYear\n",
       "2019.0    1366\n",
       "2018.0    1355\n",
       "2017.0    1063\n",
       "2016.0     882\n",
       "2020.0     864\n",
       "2022.0     729\n",
       "2015.0     723\n",
       "2021.0     700\n",
       "2023.0     627\n",
       "2014.0     585\n",
       "Name: count, dtype: int64"
      ]
     },
     "execution_count": 43,
     "metadata": {},
     "output_type": "execute_result"
    }
   ],
   "source": [
    "df.releaseYear.value_counts().head(10)"
   ]
  },
  {
   "cell_type": "code",
   "execution_count": 48,
   "id": "b3e50be0",
   "metadata": {},
   "outputs": [],
   "source": [
    "\n",
    "### replace missing values in genres with \"No votes \"\n",
    "df[\"imdbNumVotes\"].replace(np.NaN, \"No votes \", inplace=True)"
   ]
  },
  {
   "cell_type": "code",
   "execution_count": 49,
   "id": "b344c7ca",
   "metadata": {},
   "outputs": [],
   "source": [
    "\n",
    "### replace missing values in availableCountries with \"No id\"\n",
    "df[\"imdbId\"].replace(np.NaN, \"No ID\", inplace=True)"
   ]
  },
  {
   "cell_type": "code",
   "execution_count": 51,
   "id": "3523d993",
   "metadata": {},
   "outputs": [],
   "source": [
    "\n",
    "### replace missing values in genres with \"No url \"\n",
    "df[\"url\"].replace(np.NaN, \"No url \", inplace=True)"
   ]
  },
  {
   "cell_type": "code",
   "execution_count": 52,
   "id": "bc28ed2b",
   "metadata": {},
   "outputs": [],
   "source": [
    "\n",
    "### replace missing values in genres with \"No imdbAverageRating \"\n",
    "df[\"imdbAverageRating\"].replace(np.NaN, \"No imdbAverageRating \", inplace=True)"
   ]
  },
  {
   "cell_type": "code",
   "execution_count": 53,
   "id": "6d3d6e5a",
   "metadata": {},
   "outputs": [
    {
     "data": {
      "text/plain": [
       "url                   0.0\n",
       "title                 0.0\n",
       "type                  0.0\n",
       "genres                0.0\n",
       "releaseYear           0.0\n",
       "imdbId                0.0\n",
       "imdbAverageRating     0.0\n",
       "imdbNumVotes          0.0\n",
       "availableCountries    0.0\n",
       "dtype: float64"
      ]
     },
     "execution_count": 53,
     "metadata": {},
     "output_type": "execute_result"
    }
   ],
   "source": [
    "round(df.isnull().sum()/df.shape[0]*100,4).sort_values(ascending=False)"
   ]
  },
  {
   "cell_type": "code",
   "execution_count": 44,
   "id": "9d5d5c4e",
   "metadata": {},
   "outputs": [
    {
     "data": {
      "text/plain": [
       "0                                Forrest Gump\n",
       "1                           The Fifth Element\n",
       "2                           Kill Bill: Vol. 1\n",
       "3                                     Jarhead\n",
       "4                                  Unforgiven\n",
       "                         ...                 \n",
       "15847                             Mr. McMahon\n",
       "15848                            Blood Legacy\n",
       "15849                   Chef's Table: Noodles\n",
       "15854                   Making It in Marbella\n",
       "15859    The Evolution of Black British Music\n",
       "Name: title, Length: 15325, dtype: object"
      ]
     },
     "execution_count": 44,
     "metadata": {},
     "output_type": "execute_result"
    }
   ],
   "source": [
    "df['title']"
   ]
  },
  {
   "cell_type": "code",
   "execution_count": 60,
   "id": "0ac9c60a",
   "metadata": {},
   "outputs": [
    {
     "data": {
      "image/png": "[encoded data removed]",
      "text/plain": [
       "<Figure size 1300x700 with 1 Axes>"
      ]
     },
     "metadata": {},
     "output_type": "display_data"
    }
   ],
   "source": [
    "# Extract genres and count occurrences\n",
    "genres_shows = df['genres'].str.split(', ', expand=True).stack()\n",
    "\n",
    "# Count the occurrences of each genre\n",
    "genre_counts = genres_shows.value_counts()\n",
    "\n",
    "# Create a DataFrame for the top 10 genres\n",
    "top_genres = genre_counts.head(10).reset_index()\n",
    "top_genres.columns = ['Genre', 'Count']\n",
    "\n",
    "# Plotting the top 10 genres\n",
    "plt.figure(figsize=(13, 7))\n",
    "plt.title('Top 10 Genres based on the number of titles')\n",
    "sns.barplot(x='Count', y='Genre', data=top_genres, palette='pastel')\n",
    "plt.show()"
   ]
  },
  {
   "cell_type": "markdown",
   "id": "eaab3432",
   "metadata": {},
   "source": [
    "<div style=\"border-radius: 30px 0 30px 0px; border: 2px solid #00ea98; padding: 20px; background-color: #0a141b; text-align: center; box-shadow: 0px 2px 4px rgba(0, 0, 0, 0.2);\">\n",
    "    <h1 style=\"color: #7ab052; text-shadow: 2px 2px 4px rgba(0, 0, 0, 0.5); font-weight: bold; margin-bottom: 10px; font-size: 36px;\"> Segregating Movies and Shows</h1>\n",
    "</div>\n"
   ]
  },
  {
   "cell_type": "code",
   "execution_count": 64,
   "id": "b2708192",
   "metadata": {},
   "outputs": [
    {
     "name": "stdout",
     "output_type": "stream",
     "text": [
      "Number of Movies: 11214\n",
      "Number of Shows: 4111\n"
     ]
    }
   ],
   "source": [
    "# Segregating Movies and Shows\n",
    "movies_df = df[df['type'] == 'movie'].reset_index(drop=True)\n",
    "shows_df = df[df['type'] == 'tv'].reset_index(drop=True)\n",
    "\n",
    "# Display the number of entries in each DataFrame\n",
    "print(f\"Number of Movies: {len(movies_df)}\")\n",
    "print(f\"Number of Shows: {len(shows_df)}\")"
   ]
  },
  {
   "cell_type": "code",
   "execution_count": 65,
   "id": "1c5f373a",
   "metadata": {},
   "outputs": [
    {
     "name": "stdout",
     "output_type": "stream",
     "text": [
      "Number of titles in genre 'Drama': 7570\n",
      "Number of titles in genre 'Romance': 2370\n",
      "Number of titles in genre 'Action': 2851\n",
      "Number of titles in genre 'Adventure': 2011\n",
      "Number of titles in genre 'Sci-Fi': 416\n",
      "Number of titles in genre 'Crime': 2453\n",
      "Number of titles in genre 'Thriller': 1559\n",
      "Number of titles in genre 'Biography': 774\n",
      "Number of titles in genre 'War': 227\n",
      "Number of titles in genre 'Western': 54\n",
      "Number of titles in genre 'Mystery': 1146\n",
      "Number of titles in genre 'Music': 594\n",
      "Number of titles in genre 'Sport': 317\n",
      "Number of titles in genre 'Comedy': 5671\n",
      "Number of titles in genre 'Animation': 1588\n",
      "Number of titles in genre 'Family': 843\n",
      "Number of titles in genre 'Fantasy': 833\n",
      "Number of titles in genre 'Horror': 922\n",
      "Number of titles in genre 'History': 594\n",
      "Number of titles in genre 'Musical': 178\n",
      "Number of titles in genre 'Documentary': 1250\n",
      "Number of titles in genre 'Film-Noir': 11\n",
      "Number of titles in genre 'Short': 95\n",
      "Number of titles in genre 'News': 9\n",
      "Number of titles in genre 'TV Movie': 4\n",
      "Number of titles in genre 'Science Fiction': 2\n",
      "Number of titles in genre 'Reality-TV': 314\n",
      "Number of titles in genre 'Talk-Show': 29\n",
      "Number of titles in genre 'Game-Show': 81\n"
     ]
    }
   ],
   "source": [
    "# Create a dictionary to hold DataFrames for each genre\n",
    "genre_dfs = {}\n",
    "\n",
    "# Iterate through each unique genre\n",
    "for genre in df['genres'].str.split(', ').explode().unique():\n",
    "    # Create a DataFrame for the current genre\n",
    "    genre_dfs[genre] = df[df['genres'].str.contains(genre, case=False, na=False)].reset_index(drop=True)\n",
    "\n",
    "# Display the number of entries for each genre DataFrame\n",
    "for genre, genre_df in genre_dfs.items():\n",
    "    print(f\"Number of titles in genre '{genre}': {len(genre_df)}\")"
   ]
  },
  {
   "cell_type": "code",
   "execution_count": 68,
   "id": "28252534",
   "metadata": {},
   "outputs": [
    {
     "data": {
      "text/html": [
       "<div>\n",
       "<style scoped>\n",
       "    .dataframe tbody tr th:only-of-type {\n",
       "        vertical-align: middle;\n",
       "    }\n",
       "\n",
       "    .dataframe tbody tr th {\n",
       "        vertical-align: top;\n",
       "    }\n",
       "\n",
       "    .dataframe thead th {\n",
       "        text-align: right;\n",
       "    }\n",
       "</style>\n",
       "<table border=\"1\" class=\"dataframe\">\n",
       "  <thead>\n",
       "    <tr style=\"text-align: right;\">\n",
       "      <th></th>\n",
       "      <th>url</th>\n",
       "      <th>title</th>\n",
       "      <th>type</th>\n",
       "      <th>genres</th>\n",
       "      <th>releaseYear</th>\n",
       "      <th>imdbId</th>\n",
       "      <th>imdbAverageRating</th>\n",
       "      <th>imdbNumVotes</th>\n",
       "      <th>availableCountries</th>\n",
       "    </tr>\n",
       "  </thead>\n",
       "  <tbody>\n",
       "    <tr>\n",
       "      <th>0</th>\n",
       "      <td>https://www.netflix.com/title/60000724</td>\n",
       "      <td>Forrest Gump</td>\n",
       "      <td>movie</td>\n",
       "      <td>Drama, Romance</td>\n",
       "      <td>1994.0</td>\n",
       "      <td>tt0109830</td>\n",
       "      <td>8.8</td>\n",
       "      <td>2313221.0</td>\n",
       "      <td>MX</td>\n",
       "    </tr>\n",
       "    <tr>\n",
       "      <th>1</th>\n",
       "      <td>https://www.netflix.com/title/1154386</td>\n",
       "      <td>The Fifth Element</td>\n",
       "      <td>movie</td>\n",
       "      <td>Action, Adventure, Sci-Fi</td>\n",
       "      <td>1997.0</td>\n",
       "      <td>tt0119116</td>\n",
       "      <td>7.6</td>\n",
       "      <td>516523.0</td>\n",
       "      <td>AT, CH, DE</td>\n",
       "    </tr>\n",
       "  </tbody>\n",
       "</table>\n",
       "</div>"
      ],
      "text/plain": [
       "                                      url              title   type  \\\n",
       "0  https://www.netflix.com/title/60000724       Forrest Gump  movie   \n",
       "1   https://www.netflix.com/title/1154386  The Fifth Element  movie   \n",
       "\n",
       "                      genres  releaseYear     imdbId imdbAverageRating  \\\n",
       "0             Drama, Romance       1994.0  tt0109830               8.8   \n",
       "1  Action, Adventure, Sci-Fi       1997.0  tt0119116               7.6   \n",
       "\n",
       "  imdbNumVotes availableCountries  \n",
       "0    2313221.0                 MX  \n",
       "1     516523.0         AT, CH, DE  "
      ]
     },
     "execution_count": 68,
     "metadata": {},
     "output_type": "execute_result"
    }
   ],
   "source": [
    "# Clean the imdbAverageRating column\n",
    "movies_df['imdbAverageRating'] = movies_df['imdbAverageRating'].apply(\n",
    "    lambda x: x.replace(\" imdbAverageRating\", \"\") if isinstance(x, str) and 'imdbAverageRating' in x else x\n",
    ")\n",
    "\n",
    "# Display the first two rows to verify the changes\n",
    "movies_df.head(2)"
   ]
  },
  {
   "cell_type": "code",
   "execution_count": 69,
   "id": "bf3b8101",
   "metadata": {},
   "outputs": [
    {
     "name": "stdout",
     "output_type": "stream",
     "text": [
      "<class 'pandas.core.frame.DataFrame'>\n",
      "RangeIndex: 11214 entries, 0 to 11213\n",
      "Data columns (total 9 columns):\n",
      " #   Column              Non-Null Count  Dtype  \n",
      "---  ------              --------------  -----  \n",
      " 0   url                 11214 non-null  object \n",
      " 1   title               11214 non-null  object \n",
      " 2   type                11214 non-null  object \n",
      " 3   genres              11214 non-null  object \n",
      " 4   releaseYear         11214 non-null  float64\n",
      " 5   imdbId              11214 non-null  object \n",
      " 6   imdbAverageRating   11214 non-null  object \n",
      " 7   imdbNumVotes        11214 non-null  object \n",
      " 8   availableCountries  11214 non-null  object \n",
      "dtypes: float64(1), object(8)\n",
      "memory usage: 788.6+ KB\n"
     ]
    }
   ],
   "source": [
    "movies_df.info()"
   ]
  },
  {
   "cell_type": "code",
   "execution_count": 73,
   "id": "92a23edf",
   "metadata": {},
   "outputs": [],
   "source": [
    "\n",
    "# Convert imdbAverageRating to numeric, coercing errors to NaN\n",
    "movies_df['imdbAverageRating'] = pd.to_numeric(movies_df['imdbAverageRating'], errors='coerce')\n",
    "\n",
    "# Drop rows with NaN values in imdbAverageRating (if any)\n",
    "movies_df = movies_df.dropna(subset=['imdbAverageRating'])"
   ]
  },
  {
   "cell_type": "code",
   "execution_count": 74,
   "id": "09ee0277",
   "metadata": {},
   "outputs": [
    {
     "name": "stdout",
     "output_type": "stream",
     "text": [
      "Highest Rated Movie:\n",
      "                                       url                     title   type  \\\n",
      "71  https://www.netflix.com/title/70005379  The Shawshank Redemption  movie   \n",
      "\n",
      "   genres  releaseYear     imdbId  imdbAverageRating imdbNumVotes  \\\n",
      "71  Drama       1994.0  tt0111161                9.3    2956023.0   \n",
      "\n",
      "                                   availableCountries  \n",
      "71  AD, BA, BE, BG, CA, CV, CZ, ES, GQ, HR, HU, IN...  \n"
     ]
    }
   ],
   "source": [
    "# Highest Rated Movie\n",
    "highest_rated_movie = movies_df.loc[(movies_df['imdbAverageRating'] == np.max(movies_df['imdbAverageRating']))]\n",
    "print(\"Highest Rated Movie:\")\n",
    "print(highest_rated_movie)\n"
   ]
  },
  {
   "cell_type": "code",
   "execution_count": 75,
   "id": "1cc48593",
   "metadata": {},
   "outputs": [
    {
     "name": "stdout",
     "output_type": "stream",
     "text": [
      "\n",
      "Lowest Rated Movie:\n",
      "          url     title   type           genres  releaseYear     imdbId  \\\n",
      "7502  No url   Smolensk  movie  Drama, Thriller       2016.0  tt6038600   \n",
      "\n",
      "      imdbAverageRating imdbNumVotes  \\\n",
      "7502                1.2      40227.0   \n",
      "\n",
      "                                     availableCountries  \n",
      "7502  AT, BE, BG, BM, CH, CY, CZ, DE, DK, EE, ES, FI...  \n"
     ]
    }
   ],
   "source": [
    "# Lowest Rated Movie\n",
    "lowest_rated_movie = movies_df.loc[(movies_df['imdbAverageRating'] == np.min(movies_df['imdbAverageRating']))]\n",
    "print(\"\\nLowest Rated Movie:\")\n",
    "print(lowest_rated_movie)"
   ]
  },
  {
   "cell_type": "code",
   "execution_count": 77,
   "id": "38e2698e",
   "metadata": {},
   "outputs": [
    {
     "data": {
      "text/html": [
       "<div>\n",
       "<style scoped>\n",
       "    .dataframe tbody tr th:only-of-type {\n",
       "        vertical-align: middle;\n",
       "    }\n",
       "\n",
       "    .dataframe tbody tr th {\n",
       "        vertical-align: top;\n",
       "    }\n",
       "\n",
       "    .dataframe thead th {\n",
       "        text-align: right;\n",
       "    }\n",
       "</style>\n",
       "<table border=\"1\" class=\"dataframe\">\n",
       "  <thead>\n",
       "    <tr style=\"text-align: right;\">\n",
       "      <th></th>\n",
       "      <th>url</th>\n",
       "      <th>title</th>\n",
       "      <th>type</th>\n",
       "      <th>genres</th>\n",
       "      <th>releaseYear</th>\n",
       "      <th>imdbId</th>\n",
       "      <th>imdbAverageRating</th>\n",
       "      <th>imdbNumVotes</th>\n",
       "      <th>availableCountries</th>\n",
       "    </tr>\n",
       "  </thead>\n",
       "  <tbody>\n",
       "    <tr>\n",
       "      <th>0</th>\n",
       "      <td>https://www.netflix.com/title/70140457</td>\n",
       "      <td>Top Gear</td>\n",
       "      <td>tv</td>\n",
       "      <td>Adventure, Sport, Talk-Show</td>\n",
       "      <td>2002.0</td>\n",
       "      <td>tt1628033</td>\n",
       "      <td>8.7</td>\n",
       "      <td>129459.0</td>\n",
       "      <td>US</td>\n",
       "    </tr>\n",
       "    <tr>\n",
       "      <th>1</th>\n",
       "      <td>https://www.netflix.com/title/70155543</td>\n",
       "      <td>Dora the Explorer</td>\n",
       "      <td>tv</td>\n",
       "      <td>Adventure, Animation, Comedy</td>\n",
       "      <td>2000.0</td>\n",
       "      <td>tt0235917</td>\n",
       "      <td>4.3</td>\n",
       "      <td>8200.0</td>\n",
       "      <td>CA</td>\n",
       "    </tr>\n",
       "  </tbody>\n",
       "</table>\n",
       "</div>"
      ],
      "text/plain": [
       "                                      url              title type  \\\n",
       "0  https://www.netflix.com/title/70140457           Top Gear   tv   \n",
       "1  https://www.netflix.com/title/70155543  Dora the Explorer   tv   \n",
       "\n",
       "                         genres  releaseYear     imdbId imdbAverageRating  \\\n",
       "0   Adventure, Sport, Talk-Show       2002.0  tt1628033               8.7   \n",
       "1  Adventure, Animation, Comedy       2000.0  tt0235917               4.3   \n",
       "\n",
       "  imdbNumVotes availableCountries  \n",
       "0     129459.0                 US  \n",
       "1       8200.0                 CA  "
      ]
     },
     "execution_count": 77,
     "metadata": {},
     "output_type": "execute_result"
    }
   ],
   "source": [
    "# Clean the ratings column by removing the suffix \" rating\" (or any other suffix you want to remove)\n",
    "shows_df['imdbAverageRating'] = shows_df['imdbAverageRating'].apply(lambda x: x.replace(\" imdbAverageRating\", \"\") if isinstance(x, str) and 'rating' in x else x)\n",
    "\n",
    "# Display the first two rows to verify the changes\n",
    "shows_df.head(2)"
   ]
  },
  {
   "cell_type": "code",
   "execution_count": 81,
   "id": "808300c3",
   "metadata": {},
   "outputs": [
    {
     "data": {
      "text/html": [
       "<div>\n",
       "<style scoped>\n",
       "    .dataframe tbody tr th:only-of-type {\n",
       "        vertical-align: middle;\n",
       "    }\n",
       "\n",
       "    .dataframe tbody tr th {\n",
       "        vertical-align: top;\n",
       "    }\n",
       "\n",
       "    .dataframe thead th {\n",
       "        text-align: right;\n",
       "    }\n",
       "</style>\n",
       "<table border=\"1\" class=\"dataframe\">\n",
       "  <thead>\n",
       "    <tr style=\"text-align: right;\">\n",
       "      <th></th>\n",
       "      <th>url</th>\n",
       "      <th>title</th>\n",
       "      <th>type</th>\n",
       "      <th>genres</th>\n",
       "      <th>releaseYear</th>\n",
       "      <th>imdbId</th>\n",
       "      <th>imdbAverageRating</th>\n",
       "      <th>imdbNumVotes</th>\n",
       "      <th>availableCountries</th>\n",
       "    </tr>\n",
       "  </thead>\n",
       "  <tbody>\n",
       "    <tr>\n",
       "      <th>0</th>\n",
       "      <td>https://www.netflix.com/title/70140457</td>\n",
       "      <td>Top Gear</td>\n",
       "      <td>tv</td>\n",
       "      <td>Adventure, Sport, Talk-Show</td>\n",
       "      <td>2002.0</td>\n",
       "      <td>tt1628033</td>\n",
       "      <td>8.7</td>\n",
       "      <td>129459.0</td>\n",
       "      <td>US</td>\n",
       "    </tr>\n",
       "    <tr>\n",
       "      <th>1</th>\n",
       "      <td>https://www.netflix.com/title/70155543</td>\n",
       "      <td>Dora the Explorer</td>\n",
       "      <td>tv</td>\n",
       "      <td>Adventure, Animation, Comedy</td>\n",
       "      <td>2000.0</td>\n",
       "      <td>tt0235917</td>\n",
       "      <td>4.3</td>\n",
       "      <td>8200.0</td>\n",
       "      <td>CA</td>\n",
       "    </tr>\n",
       "  </tbody>\n",
       "</table>\n",
       "</div>"
      ],
      "text/plain": [
       "                                      url              title type  \\\n",
       "0  https://www.netflix.com/title/70140457           Top Gear   tv   \n",
       "1  https://www.netflix.com/title/70155543  Dora the Explorer   tv   \n",
       "\n",
       "                         genres  releaseYear     imdbId imdbAverageRating  \\\n",
       "0   Adventure, Sport, Talk-Show       2002.0  tt1628033               8.7   \n",
       "1  Adventure, Animation, Comedy       2000.0  tt0235917               4.3   \n",
       "\n",
       "  imdbNumVotes availableCountries  \n",
       "0     129459.0                 US  \n",
       "1       8200.0                 CA  "
      ]
     },
     "execution_count": 81,
     "metadata": {},
     "output_type": "execute_result"
    }
   ],
   "source": [
    "# Clean the imdbAverageRating column by removing the character 's' if it exists\n",
    "shows_df['imdbAverageRating'] = shows_df['imdbAverageRating'].apply(\n",
    "    lambda x: x.replace(\"s\", \"\") if isinstance(x, str) and 's' in x else x\n",
    ")\n",
    "\n",
    "# Display the first two rows to verify the changes\n",
    "shows_df.head(2)"
   ]
  },
  {
   "cell_type": "code",
   "execution_count": 82,
   "id": "fb816b8d",
   "metadata": {},
   "outputs": [
    {
     "data": {
      "text/html": [
       "<div>\n",
       "<style scoped>\n",
       "    .dataframe tbody tr th:only-of-type {\n",
       "        vertical-align: middle;\n",
       "    }\n",
       "\n",
       "    .dataframe tbody tr th {\n",
       "        vertical-align: top;\n",
       "    }\n",
       "\n",
       "    .dataframe thead th {\n",
       "        text-align: right;\n",
       "    }\n",
       "</style>\n",
       "<table border=\"1\" class=\"dataframe\">\n",
       "  <thead>\n",
       "    <tr style=\"text-align: right;\">\n",
       "      <th></th>\n",
       "      <th>releaseYear</th>\n",
       "    </tr>\n",
       "  </thead>\n",
       "  <tbody>\n",
       "    <tr>\n",
       "      <th>count</th>\n",
       "      <td>4111.000000</td>\n",
       "    </tr>\n",
       "    <tr>\n",
       "      <th>mean</th>\n",
       "      <td>2018.131355</td>\n",
       "    </tr>\n",
       "    <tr>\n",
       "      <th>std</th>\n",
       "      <td>6.542897</td>\n",
       "    </tr>\n",
       "    <tr>\n",
       "      <th>min</th>\n",
       "      <td>1966.000000</td>\n",
       "    </tr>\n",
       "    <tr>\n",
       "      <th>25%</th>\n",
       "      <td>2017.000000</td>\n",
       "    </tr>\n",
       "    <tr>\n",
       "      <th>50%</th>\n",
       "      <td>2020.000000</td>\n",
       "    </tr>\n",
       "    <tr>\n",
       "      <th>75%</th>\n",
       "      <td>2022.000000</td>\n",
       "    </tr>\n",
       "    <tr>\n",
       "      <th>max</th>\n",
       "      <td>2024.000000</td>\n",
       "    </tr>\n",
       "  </tbody>\n",
       "</table>\n",
       "</div>"
      ],
      "text/plain": [
       "       releaseYear\n",
       "count  4111.000000\n",
       "mean   2018.131355\n",
       "std       6.542897\n",
       "min    1966.000000\n",
       "25%    2017.000000\n",
       "50%    2020.000000\n",
       "75%    2022.000000\n",
       "max    2024.000000"
      ]
     },
     "execution_count": 82,
     "metadata": {},
     "output_type": "execute_result"
    }
   ],
   "source": [
    "shows_df.describe()"
   ]
  },
  {
   "cell_type": "code",
   "execution_count": 85,
   "id": "9bb885ee",
   "metadata": {},
   "outputs": [
    {
     "data": {
      "text/plain": [
       "imdbAverageRating\n",
       "9.5    1\n",
       "2.9    1\n",
       "3.6    1\n",
       "2.6    1\n",
       "3.1    1\n",
       "9.4    1\n",
       "1.9    1\n",
       "2.0    1\n",
       "2.4    1\n",
       "1.2    1\n",
       "Name: count, dtype: int64"
      ]
     },
     "execution_count": 85,
     "metadata": {},
     "output_type": "execute_result"
    }
   ],
   "source": [
    "shows_df.loc[:,[\"imdbAverageRating\"]]=shows_df.loc[:,[\"imdbAverageRating\"]].apply(lambda x: x.astype('int64',errors='ignore'))\n",
    "shows_df.describe()\n",
    "shows_df.imdbAverageRating.value_counts().tail(10)"
   ]
  },
  {
   "cell_type": "code",
   "execution_count": 89,
   "id": "cd022dc6",
   "metadata": {},
   "outputs": [
    {
     "name": "stdout",
     "output_type": "stream",
     "text": [
      "Shows with IMDb Average Rating >= 6:\n",
      "                                         url  \\\n",
      "0     https://www.netflix.com/title/70140457   \n",
      "2                                    No url    \n",
      "3                                    No url    \n",
      "4                                    No url    \n",
      "5                                    No url    \n",
      "...                                      ...   \n",
      "4105                                 No url    \n",
      "4106                                 No url    \n",
      "4107                                 No url    \n",
      "4108                                 No url    \n",
      "4110                                 No url    \n",
      "\n",
      "                                                 title type  \\\n",
      "0                                             Top Gear   tv   \n",
      "2                                     Sex and the City   tv   \n",
      "3                                              7 vidas   tv   \n",
      "4                                               Martin   tv   \n",
      "5                                             The Game   tv   \n",
      "...                                                ...  ...   \n",
      "4105  Caught in the Web: The Murders Behind Zona Divas   tv   \n",
      "4106                                       Mr. McMahon   tv   \n",
      "4107                                      Blood Legacy   tv   \n",
      "4108                             Chef's Table: Noodles   tv   \n",
      "4110              The Evolution of Black British Music   tv   \n",
      "\n",
      "                             genres  releaseYear      imdbId  \\\n",
      "0       Adventure, Sport, Talk-Show       2002.0   tt1628033   \n",
      "2            Comedy, Drama, Romance       1998.0   tt0159206   \n",
      "3                            Comedy       1999.0   tt0192877   \n",
      "4            Comedy, Drama, Romance       1992.0   tt0103488   \n",
      "5            Comedy, Drama, Romance       2006.0   tt0772137   \n",
      "...                             ...          ...         ...   \n",
      "4105                    Documentary       2024.0  tt33246792   \n",
      "4106  Biography, Crime, Documentary       2024.0  tt33301469   \n",
      "4107                Drama, Thriller       2024.0  tt33344252   \n",
      "4108                    Documentary       2024.0  tt33323674   \n",
      "4110             Documentary, Music       2022.0  tt27912029   \n",
      "\n",
      "      imdbAverageRating imdbNumVotes  \\\n",
      "0                   8.7     129459.0   \n",
      "2                   7.3     148156.0   \n",
      "3                   7.1       1535.0   \n",
      "4                   7.5      11211.0   \n",
      "5                   6.8       4889.0   \n",
      "...                 ...          ...   \n",
      "4105                6.0        258.0   \n",
      "4106                7.7       6746.0   \n",
      "4107                7.4        101.0   \n",
      "4108                7.5        201.0   \n",
      "4110                7.2         16.0   \n",
      "\n",
      "                                     availableCountries  \n",
      "0                                                    US  \n",
      "2     AG, AR, BA, BB, BG, BM, BO, BR, BS, BZ, CL, CO...  \n",
      "3                                                    ES  \n",
      "4                                                    US  \n",
      "5                                                    US  \n",
      "...                                                 ...  \n",
      "4105  AD, AE, AG, AL, AO, AR, AT, AU, AZ, BA, BB, BE...  \n",
      "4106  AD, AE, AG, AL, AO, AR, AT, AU, AZ, BA, BB, BE...  \n",
      "4107  AD, AE, AG, AL, AO, AR, AT, AU, AZ, BA, BB, BE...  \n",
      "4108  AD, AE, AL, AO, AR, AT, AU, AZ, BA, BB, BE, BG...  \n",
      "4110                             BM, GB, GG, GI, IE, TC  \n",
      "\n",
      "[3580 rows x 9 columns]\n"
     ]
    }
   ],
   "source": [
    "\n",
    "\n",
    "# Convert imdbAverageRating to numeric, coercing errors to NaN\n",
    "shows_df['imdbAverageRating'] = pd.to_numeric(shows_df['imdbAverageRating'], errors='coerce')\n",
    "\n",
    "# Drop rows with NaN values in imdbAverageRating (if any)\n",
    "shows_df = shows_df.dropna(subset=['imdbAverageRating'])\n",
    "\n",
    "# Show with highest number of seasons (assuming you have a 'seasons' column)\n",
    "longest_shows = shows_df.loc[(shows_df['imdbAverageRating'] >= 6)]\n",
    "\n",
    "# Display the filtered shows\n",
    "print(\"Shows with IMDb Average Rating >= 6:\")\n",
    "print(longest_shows)"
   ]
  },
  {
   "cell_type": "code",
   "execution_count": 90,
   "id": "369b88fe",
   "metadata": {},
   "outputs": [
    {
     "data": {
      "text/plain": [
       "url                   0.0\n",
       "title                 0.0\n",
       "type                  0.0\n",
       "genres                0.0\n",
       "releaseYear           0.0\n",
       "imdbId                0.0\n",
       "imdbAverageRating     0.0\n",
       "imdbNumVotes          0.0\n",
       "availableCountries    0.0\n",
       "dtype: float64"
      ]
     },
     "execution_count": 90,
     "metadata": {},
     "output_type": "execute_result"
    }
   ],
   "source": [
    "round(df.isnull().sum()/df.shape[0]*100,4).sort_values(ascending=False)"
   ]
  },
  {
   "cell_type": "code",
   "execution_count": 91,
   "id": "b84e78e7",
   "metadata": {},
   "outputs": [
    {
     "data": {
      "text/plain": [
       "imdbAverageRating\n",
       "7.5    193\n",
       "6.8    191\n",
       "7.4    185\n",
       "7.2    175\n",
       "7.1    166\n",
       "7.7    161\n",
       "7.3    161\n",
       "7.8    160\n",
       "7.6    160\n",
       "7.0    144\n",
       "6.6    143\n",
       "6.7    138\n",
       "8.0    138\n",
       "6.5    137\n",
       "6.4    132\n",
       "7.9    127\n",
       "8.1    124\n",
       "8.2    115\n",
       "6.9    113\n",
       "6.2    105\n",
       "6.3     94\n",
       "6.1     84\n",
       "8.3     75\n",
       "8.4     73\n",
       "8.5     64\n",
       "6.0     63\n",
       "8.6     58\n",
       "8.7     44\n",
       "8.8     19\n",
       "9.0     12\n",
       "8.9     10\n",
       "9.1      8\n",
       "9.3      3\n",
       "9.2      3\n",
       "9.4      1\n",
       "9.5      1\n",
       "Name: count, dtype: int64"
      ]
     },
     "execution_count": 91,
     "metadata": {},
     "output_type": "execute_result"
    }
   ],
   "source": [
    "longest_shows.imdbAverageRating.value_counts()"
   ]
  },
  {
   "cell_type": "code",
   "execution_count": 97,
   "id": "49f63cc4",
   "metadata": {},
   "outputs": [
    {
     "data": {
      "text/plain": [
       "Text(0.5, 1.0, 'Number of Titles Released per Year')"
      ]
     },
     "execution_count": 97,
     "metadata": {},
     "output_type": "execute_result"
    },
    {
     "data": {
      "image/png": "[encoded data removed]",
      "text/plain": [
       "<Figure size 2000x1400 with 1 Axes>"
      ]
     },
     "metadata": {},
     "output_type": "display_data"
    }
   ],
   "source": [
    "\n",
    "\n",
    "   # Create a DataFrame with non-null releaseYear values\n",
    "netflix_year = df[['releaseYear']].dropna()\n",
    "\n",
    "   # Count the number of titles per release year\n",
    "year_counts = netflix_year['releaseYear'].value_counts().sort_index()\n",
    "\n",
    "   # Prepare the DataFrame for plotting\n",
    "new_df = pd.DataFrame(year_counts).reset_index()\n",
    "new_df.columns = ['Year', 'Count']\n",
    "\n",
    "   # Plotting the number of titles released per year\n",
    "plt.figure(figsize=(10, 7), dpi=200)\n",
    "plt.bar(new_df['Year'], new_df['Count'], color='green')\n",
    "plt.xticks(rotation=45, fontsize=7, fontfamily='Arial')  # Changed to Arial\n",
    "plt.yticks(fontsize=7, fontfamily='Arial')  # Changed to Arial\n",
    "\n",
    "plt.title('Number of Titles Released per Year', fontsize=12, fontfamily='Arial', fontweight='bold')  # Changed"
   ]
  },
  {
   "cell_type": "code",
   "execution_count": 98,
   "id": "494a0815",
   "metadata": {},
   "outputs": [
    {
     "name": "stdout",
     "output_type": "stream",
     "text": [
      "Release Year Range: 1913.0 to 2024.0\n",
      "Most Common Release Year: 2019.0\n"
     ]
    }
   ],
   "source": [
    "   # Summary statistics\n",
    "   print(\"Release Year Range:\", netflix_year['releaseYear'].min(), \"to\", netflix_year['releaseYear'].max())\n",
    "   print(\"Most Common Release Year:\", netflix_year['releaseYear'].mode()[0])"
   ]
  }
 ],
 "metadata": {
  "kernelspec": {
   "display_name": "Python 3 (ipykernel)",
   "language": "python",
   "name": "python3"
  },
  "language_info": {
   "codemirror_mode": {
    "name": "ipython",
    "version": 3
   },
   "file_extension": ".py",
   "mimetype": "text/x-python",
   "name": "python",
   "nbconvert_exporter": "python",
   "pygments_lexer": "ipython3",
   "version": "3.12.7"
  }
 },
 "nbformat": 4,
 "nbformat_minor": 5
}
